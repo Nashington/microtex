{
 "cells": [
  {
   "cell_type": "markdown",
   "metadata": {},
   "source": [
    "\n",
    "# Watertight geometry meshing workflow\n",
    "This example sets up and solves a three-dimensional turbulent fluid flow\n",
    "and heat transfer problem in a mixing elbow, which is common in piping\n",
    "systems in power plants and process industries. Predicting the flow field\n",
    "and temperature field in the area of the mixing region is important to\n",
    "designing the junction properly.\n",
    "\n",
    "This example uses the guided workflow for watertight geometry meshing\n",
    "because it is appropriate for geometries that can have no imperfections,\n",
    "such as gaps and leakages.\n",
    "\n",
    "**Workflow tasks**\n",
    "\n",
    "The watertight geometry meshing workflow guides you through these tasks:\n",
    "\n",
    "- Import a CAD geometry\n",
    "- Generate a surface mesh\n",
    "- Describe the geometry\n",
    "- Generate a volume mesh\n",
    "\n",
    "**Problem description**\n",
    "\n",
    "A cold fluid at 20 deg C flows into the pipe through a large inlet. It then mixes\n",
    "with a warmer fluid at 40 deg C that enters through a smaller inlet located at\n",
    "the elbow. The pipe dimensions are in inches, and the fluid properties and\n",
    "boundary conditions are given in SI units. Because the Reynolds number for the\n",
    "flow at the larger inlet is ``50, 800``, a turbulent flow model is required.\n"
   ]
  },
  {
   "cell_type": "code",
   "execution_count": 1,
   "metadata": {
    "collapsed": false,
    "jupyter": {
     "outputs_hidden": false
    }
   },
   "outputs": [],
   "source": [
    "# sphinx_gallery_thumbnail_path = '_static/mixing_elbow.png'"
   ]
  },
  {
   "cell_type": "markdown",
   "metadata": {},
   "source": [
    "# Example Setup\n",
    "Before you can use the watertight geometry meshing workflow, you must set up the\n",
    "example and initialize this workflow.\n",
    "\n",
    "## Perform required imports\n",
    "Perform required imports, which includes downloading and importing\n",
    "the geometry file.\n",
    "\n"
   ]
  },
  {
   "cell_type": "code",
   "execution_count": 1,
   "metadata": {
    "collapsed": false,
    "jupyter": {
     "outputs_hidden": false
    }
   },
   "outputs": [
    {
     "ename": "NameError",
     "evalue": "name 'examples' is not defined",
     "output_type": "error",
     "traceback": [
      "\u001b[1;31m---------------------------------------------------------------------------\u001b[0m",
      "\u001b[1;31mNameError\u001b[0m                                 Traceback (most recent call last)",
      "Cell \u001b[1;32mIn[1], line 3\u001b[0m\n\u001b[0;32m      1\u001b[0m \u001b[39mimport\u001b[39;00m \u001b[39mansys\u001b[39;00m\u001b[39m.\u001b[39;00m\u001b[39mfluent\u001b[39;00m\u001b[39m.\u001b[39;00m\u001b[39mcore\u001b[39;00m \u001b[39mas\u001b[39;00m \u001b[39mpyfluent\u001b[39;00m\n\u001b[1;32m----> 3\u001b[0m import_filename \u001b[39m=\u001b[39m examples\u001b[39m.\u001b[39mdownload_file(\u001b[39m\"\u001b[39m\u001b[39mautomationtest.scdoc\u001b[39m\u001b[39m\"\u001b[39m, \u001b[39m\"\u001b[39m\u001b[39mD:\u001b[39m\u001b[39m\\\u001b[39m\u001b[39mWork\u001b[39m\u001b[39m\\\u001b[39m\u001b[39mSummer Placement Testbed\u001b[39m\u001b[39m\"\u001b[39m)\n",
      "\u001b[1;31mNameError\u001b[0m: name 'examples' is not defined"
     ]
    }
   ],
   "source": [
    "import ansys.fluent.core as pyfluent\n",
    "\n",
    "import_filename = "
   ]
  },
  {
   "cell_type": "markdown",
   "metadata": {},
   "source": [
    "## Launch Fluent\n",
    "Launch Fluent as a service in meshing mode with double precision running on\n",
    "two processors.\n",
    "\n"
   ]
  },
  {
   "cell_type": "code",
   "execution_count": 3,
   "metadata": {
    "collapsed": false,
    "jupyter": {
     "outputs_hidden": false
    }
   },
   "outputs": [],
   "source": [
    "meshing = pyfluent.launch_fluent(precision=\"double\", processor_count=2, mode=\"meshing\")"
   ]
  },
  {
   "cell_type": "markdown",
   "metadata": {},
   "source": [
    "## Initialize workflow\n",
    "Initialize the watertight geometry meshing workflow.\n",
    "\n"
   ]
  },
  {
   "cell_type": "code",
   "execution_count": 4,
   "metadata": {
    "collapsed": false,
    "jupyter": {
     "outputs_hidden": false
    }
   },
   "outputs": [
    {
     "data": {
      "text/plain": [
       "True"
      ]
     },
     "execution_count": 4,
     "metadata": {},
     "output_type": "execute_result"
    }
   ],
   "source": [
    "meshing.workflow.InitializeWorkflow(WorkflowType=\"Watertight Geometry\")"
   ]
  },
  {
   "cell_type": "markdown",
   "metadata": {},
   "source": [
    "# Watertight geometry meshing workflow\n",
    "The fault-tolerant meshing workflow guides you through the several tasks that\n",
    "follow.\n",
    "\n",
    "## Import CAD and set length units\n",
    "Import the CAD geometry and set the length units to inches.\n",
    "\n"
   ]
  },
  {
   "cell_type": "code",
   "execution_count": 5,
   "metadata": {
    "collapsed": false,
    "jupyter": {
     "outputs_hidden": false
    }
   },
   "outputs": [
    {
     "name": "stdout",
     "output_type": "stream",
     "text": [
      "\n",
      "Warning: PMDB file will not be saved as the same is being imported.\n",
      "\n",
      "Importing one geom object per program-controlled and one zone per body ...\n",
      "    D:\\\\Program Files\\\\ANSYS Inc\\\\ANSYS Student\\\\v232\\\\commonfiles\\\\CPython\\\\3_10\\\\winx64\\\\Release\\\\python\\\\..\\\\Ansys\\\\TGrid\\\\CADReaders.py started by nashi on Valkyrje winx64 on Fri Sep  1 12:47:56 2023\n",
      "    using Python 3.10.9 (remotes/origin/4e018266dafe29ec2836492d71d245fcfd366d07-dirty:4e018266, Jan  3 2) [MSC v.1920 64 bit (AMD64)]\n",
      "    \n",
      "    using Ansys.Meshing.FieldMesher build May 30 2023 15:18:26\n",
      "    \n",
      "    running ANSYS TGrid CADToTGridConverter ...\n",
      "    setting up parameters ...\n",
      "    setting up parameters done.\n",
      "    running conversion ...\n",
      "    converting 1 file(s) from Workbench to FLTG using output path 'C:\\\\Users\\\\nashi\\\\Downloads\\\\FM_Valkyrje_23912/out169356887523912.tgf'\n",
      "    converting file 'mixing_elbow.pmdb' (1 of 1) from Workbench to FLTG using output path 'C:\\\\Users\\\\nashi\\\\Downloads\\\\FM_Valkyrje_23912'\n",
      "    importing data ...\n",
      "    importing meshing model from PartMgr from file 'C:\\\\Users\\\\nashi\\\\AppData\\\\Local\\\\Ansys\\\\ansys_fluent_core\\\\examples\\\\mixing_elbow.pmdb' ...\n",
      "    setting enclosure and symmetry processing to False\n",
      "    setting transfer named selections to True\n",
      "    setting named selection prefixes to ''\n",
      "    setting mixed import resolution type to 'SolidAndSurface'\n",
      "    setting target application to 'FluentMeshing'\n",
      "    initializing part manager from file ...\n",
      "    processing assembly 'E:\\\\Fluent_testing\\\\Regressions\\\\elbow_tui_fltg\\\\std\\\\elbow.scdoc' with ID 1 and reference key '<?xml version=\"1.0\" encoding=\"utf-16\"?>\n",
      "    <IdTable xmlns:xsd=\"http://www.w3.org/2001/XMLSchema\" xmlns:xsi=\"http://www.w3.org/2001/XMLSchema-instance\">\n",
      "      <Table>\n",
      "        <Entry>\n",
      "          <Text>&lt;SnippetV1 sctype=\"SpaceClaim.BasicMoniker`1[[SpaceClaim.IEvaluation, Core]], Core\" refId=\"81ad9b4c-8344-484a-b3a0-56e3834b262e:2\" /&gt;</Text>\n",
      "          <Id>10000</Id>\n",
      "          <IsExploded>false</IsExploded>\n",
      "        </Entry>\n",
      "      </Table>\n",
      "    </IdTable>'\n",
      "    length unit = [m]\n",
      "    processing part 'elbow' with ID 3\n",
      "    processing named selection 'Symmetry:XYPlane'\n",
      "    processing named selection 'hot-inlet'\n",
      "    processing named selection 'cold-inlet'\n",
      "    processing named selection 'outlet'\n",
      "    processing named selection 'wall-inlet'\n",
      "    processing named selection 'wall-elbow'\n",
      "    processing data ...\n",
      "    removing named collections of entities ...\n",
      "    removing named collections of entities stopped, no named collections selected.\n",
      "    analyzing feature edges ...\n",
      "    detecting feature edges, feature angle = 40 [deg] ...\n",
      "        Data information\n",
      "            Meshing model\n",
      "                Attributes:\n",
      "                    'LengthUnit': '[in]'\n",
      "                Entity summary:\n",
      "                    Collection: 6\n",
      "                    Component : 2\n",
      "                    Body      : 1\n",
      "                    Shell     : 1\n",
      "                    Face      : 8\n",
      "                    Loop      : 8\n",
      "                    Edge      : 18\n",
      "                    Vertex    : 12\n",
      "                    Surface   : 8\n",
      "                    Curve     : 18\n",
      "                Tessellation summary:\n",
      "                    Face facets  : 1250\n",
      "                    Edge segments: 235\n",
      "                Bounding box:\n",
      "                    (-7.874015808105469, -8.858267784118652, 0) x (7.874015808105469, 7.874015808105469, 1.96705949306488)\n",
      "                Assembly component hierarchy:\n",
      "                    'E:\\\\Fluent_testing\\\\Regressions\\\\elbow_tui_fltg\\\\std\\\\elbow.scdoc'\n",
      "                      'elbow'\n",
      "                NamedCollections:\n",
      "                    'Symmetry:XYPlane'\n",
      "                    'hot-inlet'\n",
      "                    'cold-inlet'\n",
      "                    'outlet'\n",
      "                    'wall-inlet'\n",
      "                    'wall-elbow'\n",
      "    \n",
      "    \n",
      "    exporting FLTG data to file 'C:\\\\Users\\\\nashi\\\\Downloads\\\\FM_Valkyrje_23912\\\\out169356887523912.tgf' ...\n",
      "    writing face-based mesh file 'C:\\\\Users\\\\nashi\\\\Downloads\\\\FM_Valkyrje_23912\\\\out169356887523912.tgf' ...\n",
      "    ======== Exported Data ========\n",
      "    Entity summary:\n",
      "        Object       : 1\n",
      "        Object region: 7\n",
      "        Zone         : 15\n",
      "    \n",
      "    running conversion done.\n",
      "    running ANSYS TGrid CADToTGridConverter done.\n",
      "    ran ANSYS TGrid CADToTGridConverter in 0.100 [s]\n",
      "\n",
      "Reading \"C:\\Users\\nashi\\Downloads\\FM_Valkyrje_23912/out169356887523912.tgf\"...\n",
      "Reading \"C:\\Users\\nashi\\Downloads\\FM_Valkyrje_23912/out169356887523912.tgf\"...\n",
      "nodes: 776\n",
      "edges: 153\n",
      "faces: 1250\n",
      "cells: 0\n",
      "reading 776 storage data (id 1, type 41, double precision binary).\n",
      "generating pointers...done.\n",
      "extracting boundary entities...\n",
      " 776 boundary nodes.\n",
      " 1250 boundary faces.\n",
      " 6 boundary face zones.\n",
      "done.\n",
      "analyzing boundary connectivity...done.\n",
      "\n",
      "---------------- Import of mixing_elbow, consisting of one single part/object , complete. \n",
      " \n"
     ]
    },
    {
     "data": {
      "text/plain": [
       "True"
      ]
     },
     "execution_count": 5,
     "metadata": {},
     "output_type": "execute_result"
    }
   ],
   "source": [
    "meshing.workflow.TaskObject[\"Import Geometry\"].Arguments = {\n",
    "    \"FileName\": import_filename,\n",
    "    \"LengthUnit\": \"in\",\n",
    "}\n",
    "\n",
    "# Import geometry\n",
    "# ~~~~~~~~~~~~~~~\n",
    "# Import the geometry.\n",
    "\n",
    "meshing.workflow.TaskObject[\"Import Geometry\"].Execute()"
   ]
  },
  {
   "cell_type": "markdown",
   "metadata": {},
   "source": [
    "## Add local sizing\n",
    "Add local sizing. This task asks whether you want to add local sizing controls\n",
    "to the faceted geometry. You can keep the default settings and execute the task.\n",
    "\n"
   ]
  },
  {
   "cell_type": "code",
   "execution_count": 6,
   "metadata": {
    "collapsed": false,
    "jupyter": {
     "outputs_hidden": false
    }
   },
   "outputs": [
    {
     "name": "stdout",
     "output_type": "stream",
     "text": [
      "\n",
      "\n"
     ]
    },
    {
     "data": {
      "text/plain": [
       "True"
      ]
     },
     "execution_count": 6,
     "metadata": {},
     "output_type": "execute_result"
    }
   ],
   "source": [
    "meshing.workflow.TaskObject[\"Add Local Sizing\"].AddChildToTask()\n",
    "meshing.workflow.TaskObject[\"Add Local Sizing\"].Execute()"
   ]
  },
  {
   "cell_type": "markdown",
   "metadata": {},
   "source": [
    "## Generate surface mesh\n",
    "Generate the surface mash. In this task, you can set various properties of the\n",
    "surface mesh for the faceted geometry. For ``\"MaxSize\"``, set ``0.3``.\n",
    "\n"
   ]
  },
  {
   "cell_type": "code",
   "execution_count": 7,
   "metadata": {
    "collapsed": false,
    "jupyter": {
     "outputs_hidden": false
    }
   },
   "outputs": [
    {
     "name": "stdout",
     "output_type": "stream",
     "text": [
      "Meshing> Writing \"C:\\Users\\nashi\\Downloads\\FM_Valkyrje_23912\\TaskObject3.msh.h5\" ...\n",
      "writing 1 node zones\n",
      "writing 9 edge zones \n",
      "writing 6 face zones \n",
      "done.\n",
      "Importing one mesh object per program-controlled and one zone per body ...\n",
      "    D:\\\\Program Files\\\\ANSYS Inc\\\\ANSYS Student\\\\v232\\\\commonfiles\\\\CPython\\\\3_10\\\\winx64\\\\Release\\\\python\\\\..\\\\Ansys\\\\TGrid\\\\CADReaders.py started by nashi on Valkyrje winx64 on Fri Sep  1 12:48:02 2023\n",
      "    using Python 3.10.9 (remotes/origin/4e018266dafe29ec2836492d71d245fcfd366d07-dirty:4e018266, Jan  3 2) [MSC v.1920 64 bit (AMD64)]\n",
      "    \n",
      "    using Ansys.Meshing.FieldMesher build May 30 2023 15:18:26\n",
      "    \n",
      "    running ANSYS TGrid CADToTGridConverter ...\n",
      "    setting up parameters ...\n",
      "    setting up parameters done.\n",
      "    running conversion ...\n",
      "    converting 1 file(s) from Workbench to FLTG using output path 'C:\\\\Users\\\\nashi\\\\Downloads\\\\FM_Valkyrje_23912/out169356888223912.tgf'\n",
      "    converting file 'mixing_elbow.pmdb' (1 of 1) from Workbench to FLTG using output path 'C:\\\\Users\\\\nashi\\\\Downloads\\\\FM_Valkyrje_23912'\n",
      "    importing data ...\n",
      "    importing meshing model from PartMgr from file 'C:\\\\Users\\\\nashi\\\\AppData\\\\Local\\\\Ansys\\\\ansys_fluent_core\\\\examples\\\\mixing_elbow.pmdb' ...\n",
      "    setting enclosure and symmetry processing to False\n",
      "    setting transfer named selections to True\n",
      "    setting named selection prefixes to ''\n",
      "    setting mixed import resolution type to 'SolidAndSurface'\n",
      "    setting target application to 'FluentMeshing'\n",
      "    initializing part manager from file ...\n",
      "    processing assembly 'E:\\\\Fluent_testing\\\\Regressions\\\\elbow_tui_fltg\\\\std\\\\elbow.scdoc' with ID 1 and reference key '<?xml version=\"1.0\" encoding=\"utf-16\"?>\n",
      "    <IdTable xmlns:xsd=\"http://www.w3.org/2001/XMLSchema\" xmlns:xsi=\"http://www.w3.org/2001/XMLSchema-instance\">\n",
      "      <Table>\n",
      "        <Entry>\n",
      "          <Text>&lt;SnippetV1 sctype=\"SpaceClaim.BasicMoniker`1[[SpaceClaim.IEvaluation, Core]], Core\" refId=\"81ad9b4c-8344-484a-b3a0-56e3834b262e:2\" /&gt;</Text>\n",
      "          <Id>10000</Id>\n",
      "          <IsExploded>false</IsExploded>\n",
      "        </Entry>\n",
      "      </Table>\n",
      "    </IdTable>'\n",
      "    length unit = [m]\n",
      "    processing part 'elbow' with ID 3\n",
      "    processing named selection 'Symmetry:XYPlane'\n",
      "    processing named selection 'hot-inlet'\n",
      "    processing named selection 'cold-inlet'\n",
      "    processing named selection 'outlet'\n",
      "    processing named selection 'wall-inlet'\n",
      "    processing named selection 'wall-elbow'\n",
      "    processing data ...\n",
      "    saving size function background grid to file 'C:\\\\Users\\\\nashi\\\\Downloads\\\\FM_Valkyrje_23912\\\\mixing_elbow.sf' ...\n",
      "    writing size function background grid file 'C:\\\\Users\\\\nashi\\\\Downloads\\\\FM_Valkyrje_23912\\\\mixing_elbow.sf' ...\n",
      "    initializing size function background grid done in 0.045 [s]\n",
      "    removing named collections of entities ...\n",
      "    removing named collections of entities stopped, no named collections selected.\n",
      "    analyzing feature edges ...\n",
      "    detecting feature edges, feature angle = 40 [deg] ...\n",
      "        Data information\n",
      "            Meshing model\n",
      "                Attributes:\n",
      "                    'LengthUnit': '[in]'\n",
      "                Entity summary:\n",
      "                    Collection: 6\n",
      "                    Component : 2\n",
      "                    Body      : 1\n",
      "                    Shell     : 1\n",
      "                    Face      : 8\n",
      "                    Loop      : 8\n",
      "                    Edge      : 18\n",
      "                    Vertex    : 12\n",
      "                    Surface   : 8\n",
      "                    Curve     : 18\n",
      "                Tessellation summary:\n",
      "                    Face facets  : 7864\n",
      "                    Edge segments: 342\n",
      "                Bounding box:\n",
      "                    (-7.874015808105469, -8.858267784118652, 0) x (7.874015808105469, 7.874015808105469, 1.968503832817078)\n",
      "                Assembly component hierarchy:\n",
      "                    'E:\\\\Fluent_testing\\\\Regressions\\\\elbow_tui_fltg\\\\std\\\\elbow.scdoc'\n",
      "                      'elbow'\n",
      "                NamedCollections:\n",
      "                    'Symmetry:XYPlane'\n",
      "                    'hot-inlet'\n",
      "                    'cold-inlet'\n",
      "                    'outlet'\n",
      "                    'wall-inlet'\n",
      "                    'wall-elbow'\n",
      "    \n",
      "    \n",
      "    exporting FLTG data to file 'C:\\\\Users\\\\nashi\\\\Downloads\\\\FM_Valkyrje_23912\\\\out169356888223912.tgf' ...\n",
      "    writing face-based mesh file 'C:\\\\Users\\\\nashi\\\\Downloads\\\\FM_Valkyrje_23912\\\\out169356888223912.tgf' ...\n",
      "    ======== Exported Data ========\n",
      "    Entity summary:\n",
      "        Object       : 1\n",
      "        Object region: 7\n",
      "        Zone         : 15\n",
      "    \n",
      "    running conversion done.\n",
      "    running ANSYS TGrid CADToTGridConverter done.\n",
      "    ran ANSYS TGrid CADToTGridConverter in 0.334 [s]\n",
      "\n",
      "Reading \"C:\\Users\\nashi\\Downloads\\FM_Valkyrje_23912/out169356888223912.tgf\"...\n",
      "Reading \"C:\\Users\\nashi\\Downloads\\FM_Valkyrje_23912/out169356888223912.tgf\"...\n",
      "nodes: 4230\n",
      "edges: 300\n",
      "faces: 7864\n",
      "cells: 0\n",
      "reading 4230 storage data (id 1, type 41, double precision binary).\n",
      "appending mesh...\n",
      "done.\n",
      "generating pointers...done.\n",
      "extracting boundary entities...\n",
      " 5006 boundary nodes.\n",
      " 9114 boundary faces.\n",
      " 12 boundary face zones.\n",
      "done.\n",
      "\n",
      "Reading \"C:\\Users\\nashi\\Downloads\\FM_Valkyrje_23912\\mixing_elbow.sf\"...\n",
      "Reading \"C:\\Users\\nashi\\Downloads\\FM_Valkyrje_23912\\mixing_elbow.sf\"...\n",
      "ANSYS(R) TGLib(TM) 3D, revision 18.1.0\n",
      " Read 5406 vertices\n",
      "0 faces marked.\n",
      "\n",
      "    computing regions...done\n",
      "\n",
      "\n",
      "------------------------- --------------------- -------------------- ---------------- ----------\n",
      "                     name skewed-cells (> 0.80)    averaged-skewness maximum-skewness face count\n",
      "------------------------- --------------------- -------------------- ---------------- ----------\n",
      "\n",
      "              elbow-fluid                     0          0.016755908       0.41817382       7864\n",
      "------------------------- --------------------- -------------------- ---------------- ----------\n",
      "                     name skewed-cells (> 0.80)    averaged-skewness maximum-skewness face count\n",
      "------------------------- --------------------- -------------------- ---------------- ----------\n",
      "\n",
      "              elbow-fluid                     0          0.016755908       0.41817382       7864\n",
      "\n",
      "---------------- After Surface mesh, the model consists of 1 fluid/solid regions and 0 voids.\n",
      "\n",
      "---------------- Surface Meshing of mixing_elbow complete in  0.02 minutes, with a maximum skewness of  0.42. \n",
      "\n"
     ]
    },
    {
     "data": {
      "text/plain": [
       "True"
      ]
     },
     "execution_count": 7,
     "metadata": {},
     "output_type": "execute_result"
    }
   ],
   "source": [
    "meshing.workflow.TaskObject[\"Generate the Surface Mesh\"].Arguments = {\n",
    "    \"CFDSurfaceMeshControls\": {\"MaxSize\": 0.3}\n",
    "}\n",
    "meshing.workflow.TaskObject[\"Generate the Surface Mesh\"].Execute()"
   ]
  },
  {
   "cell_type": "markdown",
   "metadata": {},
   "source": [
    "## Describe geometry\n",
    "Describe the geometry. In this task, you are prompted with questions\n",
    "relating to the nature of the imported geometry, which defines\n",
    "the fluid region. The geometry consists of only fluid regions.\n",
    "\n"
   ]
  },
  {
   "cell_type": "code",
   "execution_count": 8,
   "metadata": {
    "collapsed": false,
    "jupyter": {
     "outputs_hidden": false
    }
   },
   "outputs": [
    {
     "name": "stdout",
     "output_type": "stream",
     "text": [
      "\n",
      "---------------- Velocity-inlet zone type was automatically assigned to zones containing the string '*inlet*'.\n",
      "\n",
      "---------------- Pressure-outlet zone type was automatically assigned to zones containing the string '*outlet*'.\n",
      "\n",
      "---------------- Symmetry zone type was automatically assigned to zones containing the string '*symmetry*'.\n"
     ]
    },
    {
     "data": {
      "text/plain": [
       "True"
      ]
     },
     "execution_count": 8,
     "metadata": {},
     "output_type": "execute_result"
    }
   ],
   "source": [
    "meshing.workflow.TaskObject[\"Describe Geometry\"].UpdateChildTasks(\n",
    "    SetupTypeChanged=False\n",
    ")\n",
    "meshing.workflow.TaskObject[\"Describe Geometry\"].Arguments = {\n",
    "    \"SetupType\": \"The geometry consists of only fluid regions with no voids\"\n",
    "}\n",
    "meshing.workflow.TaskObject[\"Describe Geometry\"].UpdateChildTasks(SetupTypeChanged=True)\n",
    "meshing.workflow.TaskObject[\"Describe Geometry\"].Execute()"
   ]
  },
  {
   "cell_type": "markdown",
   "metadata": {},
   "source": [
    "## Update boundaries\n",
    "Update the boundaries. Set ``\"BoundaryLabelTypeList\"`` to ``\"wall\"`` and\n",
    "update the boundaries.\n",
    "\n"
   ]
  },
  {
   "cell_type": "code",
   "execution_count": 9,
   "metadata": {
    "collapsed": false,
    "jupyter": {
     "outputs_hidden": false
    }
   },
   "outputs": [
    {
     "name": "stdout",
     "output_type": "stream",
     "text": [
      "\n",
      "---------------- Boundary Conditions Updated\n"
     ]
    },
    {
     "data": {
      "text/plain": [
       "True"
      ]
     },
     "execution_count": 9,
     "metadata": {},
     "output_type": "execute_result"
    }
   ],
   "source": [
    "meshing.workflow.TaskObject[\"Update Boundaries\"].Arguments = {\n",
    "    \"BoundaryLabelList\": [\"wall-inlet\"],\n",
    "    \"BoundaryLabelTypeList\": [\"wall\"],\n",
    "    \"OldBoundaryLabelList\": [\"wall-inlet\"],\n",
    "    \"OldBoundaryLabelTypeList\": [\"velocity-inlet\"],\n",
    "}\n",
    "meshing.workflow.TaskObject[\"Update Boundaries\"].Execute()"
   ]
  },
  {
   "cell_type": "markdown",
   "metadata": {},
   "source": [
    "## Update regions\n",
    "Update the regions. In this task, you can review the names and types of\n",
    "the various regions that have been generated from your imported geometry and\n",
    "change them as needed. You can keep the default settings.\n",
    "\n"
   ]
  },
  {
   "cell_type": "code",
   "execution_count": 10,
   "metadata": {
    "collapsed": false,
    "jupyter": {
     "outputs_hidden": false
    }
   },
   "outputs": [
    {
     "name": "stdout",
     "output_type": "stream",
     "text": [
      "\n",
      "---------------- Regions Updated\n"
     ]
    },
    {
     "data": {
      "text/plain": [
       "True"
      ]
     },
     "execution_count": 10,
     "metadata": {},
     "output_type": "execute_result"
    }
   ],
   "source": [
    "meshing.workflow.TaskObject[\"Update Regions\"].Execute()"
   ]
  },
  {
   "cell_type": "markdown",
   "metadata": {},
   "source": [
    "## Add boundary layers\n",
    "Add boundary layers, which consist of setting properties for the\n",
    "boundary layer mesh. You can keep the default settings.\n",
    "\n"
   ]
  },
  {
   "cell_type": "code",
   "execution_count": 11,
   "metadata": {
    "collapsed": false,
    "jupyter": {
     "outputs_hidden": false
    }
   },
   "outputs": [
    {
     "name": "stdout",
     "output_type": "stream",
     "text": [
      "\n",
      "Created Scoped Prism: smooth-transition_1\n",
      "\n",
      "---------------- Inflation control added to elbow-fluid\n"
     ]
    },
    {
     "data": {
      "text/plain": [
       "True"
      ]
     },
     "execution_count": 11,
     "metadata": {},
     "output_type": "execute_result"
    }
   ],
   "source": [
    "meshing.workflow.TaskObject[\"Add Boundary Layers\"].AddChildToTask()\n",
    "meshing.workflow.TaskObject[\"Add Boundary Layers\"].InsertCompoundChildTask()\n",
    "meshing.workflow.TaskObject[\"smooth-transition_1\"].Arguments = {\n",
    "    \"BLControlName\": \"smooth-transition_1\",\n",
    "}\n",
    "meshing.workflow.TaskObject[\"Add Boundary Layers\"].Arguments = {}\n",
    "meshing.workflow.TaskObject[\"smooth-transition_1\"].Execute()"
   ]
  },
  {
   "cell_type": "markdown",
   "metadata": {},
   "source": [
    "## Generate volume mesh\n",
    "Generate the volume mesh, which consists of setting properties for the\n",
    "volume mesh. Set ``\"VolumeFill\"`` to ``\"poly-hexcore\"``.\n",
    "\n"
   ]
  },
  {
   "cell_type": "code",
   "execution_count": 12,
   "metadata": {
    "collapsed": false,
    "jupyter": {
     "outputs_hidden": false
    }
   },
   "outputs": [
    {
     "name": "stdout",
     "output_type": "stream",
     "text": [
      "Writing \"C:\\Users\\nashi\\Downloads\\FM_Valkyrje_23912\\TaskObject11.msh.h5\" ...\n",
      "writing 2 node zones\n",
      "writing 18 edge zones \n",
      "writing 12 face zones \n",
      "done.\n",
      "checking object \"elbow-fluid\"...\n",
      "    skipping validating regions of mesh object \"elbow-fluid\"...done.\n",
      "auto meshing object elbow-fluid...\n",
      "\n",
      "processing scoped prisms...\n",
      "    starting orientation...\n",
      "done.\n",
      "    setting prism growth...done.\n",
      "done.\n",
      "Identifying Topology...\n",
      "\n",
      "The octree hexcore cells will be refined using local surface mesh sizes and body of influence (boi) size controls, if there are any defined.\n",
      "Generating Prisms...\n",
      "\n",
      "Generating initial mesh...\n",
      "\n",
      "Refining mesh...\n",
      "\n",
      "Create polyhedra ...\n",
      "\n",
      "delete virtual and dead zones.\n",
      "\n",
      "Merging zones...\n",
      "\n",
      "Cleaning up dead entities...\n",
      "\n",
      "\n",
      "Merging Domains...\n",
      "done.\n",
      "\n",
      "                     name       id cells (quality < 0.05)  minimum quality cell count\n",
      "------------------------- -------- ---------------------- ---------------- ----------\n",
      "              elbow-fluid       87                      0       0.21160659      17939\n",
      "\n",
      "                     name       id cells (quality < 0.05)  minimum quality cell count\n",
      "------------------------- -------- ---------------------- ---------------- ----------\n",
      "          Overall Summary     none                      0       0.21160659      17939\n",
      "\n",
      "Total Number of Cell Zones : 1\n",
      "\n",
      "[Quality Measure : Orthogonal Quality]\n",
      "\n",
      "---------------- 17939 cells were created in :  0.08 minutes\n",
      "\n",
      "---------------- The mesh has a minimum Orthogonal Quality of:  0.21 \n",
      "\n",
      "---------------- The volume meshing of elbow-fluid is complete.\n",
      "\n"
     ]
    },
    {
     "data": {
      "text/plain": [
       "True"
      ]
     },
     "execution_count": 12,
     "metadata": {},
     "output_type": "execute_result"
    }
   ],
   "source": [
    "meshing.workflow.TaskObject[\"Generate the Volume Mesh\"].Arguments = {\n",
    "    \"VolumeFill\": \"poly-hexcore\",\n",
    "    \"VolumeFillControls\": {\n",
    "        \"HexMaxCellLength\": 0.3,\n",
    "    },\n",
    "}\n",
    "meshing.workflow.TaskObject[\"Generate the Volume Mesh\"].Execute()"
   ]
  },
  {
   "cell_type": "markdown",
   "metadata": {},
   "source": [
    "<img src=\"file://_static/mixing_elbow_011.png\" width=\"500pt\" align=\"center\">\n",
    "\n"
   ]
  },
  {
   "cell_type": "markdown",
   "metadata": {},
   "source": [
    "## Check mesh in meshing mode\n",
    "Check the mesh in meshing mode\n",
    "\n"
   ]
  },
  {
   "cell_type": "code",
   "execution_count": 13,
   "metadata": {
    "collapsed": false,
    "jupyter": {
     "outputs_hidden": false
    }
   },
   "outputs": [
    {
     "name": "stdout",
     "output_type": "stream",
     "text": [
      "\n",
      "Domain extents.\n",
      "  x-coordinate: min = -7.874016e+00, max = 7.874016e+00.\n",
      "  y-coordinate: min = -8.858268e+00, max = 7.874016e+00.\n",
      "  z-coordinate: min = 0.000000e+00, max = 1.968504e+00.\n",
      "Volume statistics.\n",
      "  minimum volume: 1.203433e-05.\n",
      "  maximum volume: 3.428073e-02.\n",
      "    total volume: 1.525994e+02.\n",
      "Face area statistics.\n",
      "   minimum face area: 4.885479e-05.\n",
      "   maximum face area: 1.220464e-01.\n",
      "   average face area: 2.473775e-02.\n",
      "Checking number of nodes per edge.\n",
      "Checking number of nodes per face.\n",
      "Checking number of nodes per cell.\n",
      "Checking number of faces/neighbors per cell.\n",
      "Checking cell faces/neighbors.\n",
      "Checking isolated cells.\n",
      "Checking face handedness.\n",
      "Checking periodic face pairs.\n",
      "Checking face children.\n",
      "Checking face zone boundary conditions.\n",
      "Checking for invalid node coordinates.\n",
      "Checking poly cells.\n",
      "Checking zones.\n",
      "Checking neighborhood.\n",
      "Checking modified centroid.\n",
      "Checking non-positive or too small area.\n",
      "Checking face zones thread type.\n"
     ]
    }
   ],
   "source": [
    "meshing.tui.mesh.check_mesh()"
   ]
  },
  {
   "cell_type": "markdown",
   "metadata": {},
   "source": [
    "## Save mesh file\n",
    "Save the mesh file (``mixing_elbow.msh.h5``).\n",
    "\n"
   ]
  },
  {
   "cell_type": "code",
   "execution_count": 14,
   "metadata": {
    "collapsed": false,
    "jupyter": {
     "outputs_hidden": false
    }
   },
   "outputs": [],
   "source": [
    "meshing.tui.file.write_mesh(\"mixing_elbow.msh.h5\")"
   ]
  },
  {
   "cell_type": "markdown",
   "metadata": {},
   "source": [
    "# Solve and postprocess\n",
    "Once you have completed the watertight geometry meshing workflow, you can\n",
    "solve and postprcess the results.\n",
    "\n",
    "## Switch to solution mode\n",
    "Switch to solution mode. Now that a high-quality mesh has been generated\n",
    "using Fluent in meshing mode, you can switch to solver mode to complete the\n",
    "setup of the simulation. Because you have just checked the mesh, set ``\"yes\"``\n",
    "to switch to the solution mode.\n",
    "\n"
   ]
  },
  {
   "cell_type": "code",
   "execution_count": 15,
   "metadata": {
    "collapsed": false,
    "jupyter": {
     "outputs_hidden": false
    }
   },
   "outputs": [
    {
     "name": "stdout",
     "output_type": "stream",
     "text": [
      "Done.\n",
      "Preparing...\n",
      "\n",
      "unused zone boundary-node-19 removed\n",
      "\n",
      "*********************************************\n",
      "Info: Your license enables 4-way parallel execution.\n",
      "For faster simulations, please start the application with the appropriate parallel options.\n",
      "*********************************************\n",
      "\n",
      "Multicore SMT processors detected. Processor affinity set!\n",
      "\n",
      "Transferring mesh\n",
      "\ttransferring nodes... done\n",
      "\tcreating threads... done\n",
      "\ttransferring faces... done\n",
      "\ttransferring cells... done\n",
      "\tupdating face to cell connectivity... done\n",
      "\tupdating grid metrics...  done\n",
      "\tpost mesh transfer operations... done\n",
      "done\n",
      "\n",
      "     materials,\n",
      "     interface,\n",
      "     domains,\n",
      "     zones,\n",
      "\twall-elbow\n",
      "\twall-inlet\n",
      "\toutlet\n",
      "\tcold-inlet\n",
      "\thot-inlet\n",
      "\tsymmetry-xyplane\n",
      "\tinterior--elbow-fluid\n",
      "\telbow-fluid\n",
      "     surfaces,\n",
      "     parallel,\n",
      "Done.\n",
      "Mesh is now scaled to meters.\n"
     ]
    }
   ],
   "source": [
    "solver = meshing.switch_to_solver()"
   ]
  },
  {
   "cell_type": "markdown",
   "metadata": {},
   "source": [
    "## Check mesh in solver mode\n",
    "Check the mesh in solver mode. The mesh check lists the minimum and maximum\n",
    "x, y, and z values from the mesh in the default SI units of meters. It also\n",
    "reports a number of other mesh features that are checked. Any errors in the\n",
    "mesh are reported. Ensure that the minimum volume is not negative because\n",
    "Fluent cannot begin a calculation when this is the case.\n",
    "\n"
   ]
  },
  {
   "cell_type": "code",
   "execution_count": 16,
   "metadata": {
    "collapsed": false,
    "jupyter": {
     "outputs_hidden": false
    }
   },
   "outputs": [
    {
     "name": "stdout",
     "output_type": "stream",
     "text": [
      "\n",
      "\n",
      "> \n",
      " Domain Extents:\n",
      "   x-coordinate: min (m) = -2.000000e-01, max (m) = 2.000000e-01\n",
      "   y-coordinate: min (m) = -2.250000e-01, max (m) = 2.000000e-01\n",
      "   z-coordinate: min (m) = 0.000000e+00, max (m) = 4.992264e-02\n",
      " Volume statistics:\n",
      "   minimum volume (m3): 1.972073e-10\n",
      "   maximum volume (m3): 5.617606e-07\n",
      "     total volume (m3): 2.500657e-03\n",
      " Face area statistics:\n",
      "   minimum face area (m2): 3.151916e-08\n",
      "   maximum face area (m2): 7.873946e-05\n",
      " Checking mesh.....................................\n",
      "Done.\n",
      "\n",
      "Note: Settings to improve the robustness of pathline and\n",
      "      particle tracking have been automatically enabled.\n",
      "\n"
     ]
    }
   ],
   "source": [
    "solver.tui.mesh.check()"
   ]
  },
  {
   "cell_type": "markdown",
   "metadata": {},
   "source": [
    "## Set working units for mesh\n",
    "Set the working units for the mesh to inches. Because the default SI units are\n",
    "used for everything except length, you do not have to change any other units\n",
    "in this example. If you want working units for length to be other than inches\n",
    "(for example, millimeters), make the appropriate change.\n",
    "\n"
   ]
  },
  {
   "cell_type": "code",
   "execution_count": 17,
   "metadata": {
    "collapsed": false,
    "jupyter": {
     "outputs_hidden": false
    }
   },
   "outputs": [],
   "source": [
    "solver.tui.define.units(\"length\", \"in\")"
   ]
  },
  {
   "cell_type": "markdown",
   "metadata": {},
   "source": [
    "## Enable heat transfer\n",
    "Enable heat transfer by activating the energy equation.\n",
    "\n"
   ]
  },
  {
   "cell_type": "code",
   "execution_count": 18,
   "metadata": {
    "collapsed": false,
    "jupyter": {
     "outputs_hidden": false
    }
   },
   "outputs": [],
   "source": [
    "solver.tui.define.models.energy(\"yes\", \", \", \", \", \", \", \", \")"
   ]
  },
  {
   "cell_type": "markdown",
   "metadata": {},
   "source": [
    "## Create material\n",
    "Create a material named ``\"water-liquid\"``.\n",
    "\n"
   ]
  },
  {
   "cell_type": "code",
   "execution_count": 19,
   "metadata": {
    "collapsed": false,
    "jupyter": {
     "outputs_hidden": false
    }
   },
   "outputs": [
    {
     "name": "stdout",
     "output_type": "stream",
     "text": [
      " \n",
      "water-liquid copied from database.\n",
      "\n"
     ]
    }
   ],
   "source": [
    "solver.tui.define.materials.copy(\"fluid\", \"water-liquid\")"
   ]
  },
  {
   "cell_type": "markdown",
   "metadata": {},
   "source": [
    "## Set up cell zone conditions\n",
    "Set up the cell zone conditions for the fluid zone (``elbow-fluid``)``. Set the\n",
    "material to ``\"water-liquid\"``.\n",
    "\n"
   ]
  },
  {
   "cell_type": "code",
   "execution_count": 20,
   "metadata": {
    "collapsed": false,
    "jupyter": {
     "outputs_hidden": false
    }
   },
   "outputs": [
    {
     "name": "stdout",
     "output_type": "stream",
     "text": [
      "(elbow-fluid)\n"
     ]
    }
   ],
   "source": [
    "solver.tui.define.boundary_conditions.fluid(\n",
    "    \"elbow-fluid\",\n",
    "    \"yes\",\n",
    "    \"water-liquid\",\n",
    "    \"no\",\n",
    "    \"no\",\n",
    "    \"no\",\n",
    "    \"no\",\n",
    "    \"0\",\n",
    "    \"no\",\n",
    "    \"0\",\n",
    "    \"no\",\n",
    "    \"0\",\n",
    "    \"no\",\n",
    "    \"0\",\n",
    "    \"no\",\n",
    "    \"0\",\n",
    "    \"no\",\n",
    "    \"1\",\n",
    "    \"no\",\n",
    "    \"no\",\n",
    "    \"no\",\n",
    "    \"no\",\n",
    "    \"no\",\n",
    ")"
   ]
  },
  {
   "cell_type": "markdown",
   "metadata": {},
   "source": [
    "## Set up boundary conditions for CFD analysis\n",
    "Set up the boundary conditions for the inlets, outlet, and walls for CFD\n",
    "analysis.\n",
    "\n"
   ]
  },
  {
   "cell_type": "code",
   "execution_count": 21,
   "metadata": {
    "collapsed": false,
    "jupyter": {
     "outputs_hidden": false
    }
   },
   "outputs": [],
   "source": [
    "# cold inlet (cold-inlet), Setting: Value:\n",
    "# Velocity Specification Method: Magnitude, Normal to Boundary\n",
    "\n",
    "solver.tui.define.boundary_conditions.set.velocity_inlet(\n",
    "    \"cold-inlet\", [], \"vmag\", \"no\", 0.4, \"quit\"\n",
    ")\n",
    "solver.tui.define.boundary_conditions.set.velocity_inlet(\n",
    "    \"cold-inlet\", [], \"ke-spec\", \"no\", \"no\", \"no\", \"yes\", \"quit\"\n",
    ")\n",
    "solver.tui.define.boundary_conditions.set.velocity_inlet(\n",
    "    \"cold-inlet\", [], \"turb-intensity\", 5, \"quit\"\n",
    ")\n",
    "solver.tui.define.boundary_conditions.set.velocity_inlet(\n",
    "    \"cold-inlet\", [], \"turb-hydraulic-diam\", 4, \"quit\"\n",
    ")\n",
    "solver.tui.define.boundary_conditions.set.velocity_inlet(\n",
    "    \"cold-inlet\", [], \"temperature\", \"no\", 293.15, \"quit\"\n",
    ")\n",
    "\n",
    "# hot inlet (hot-inlet), Setting: Value:\n",
    "# Velocity Specification Method: Magnitude, Normal to Boundary\n",
    "\n",
    "solver.tui.define.boundary_conditions.set.velocity_inlet(\n",
    "    \"hot-inlet\", [], \"vmag\", \"no\", 1.2, \"quit\"\n",
    ")\n",
    "solver.tui.define.boundary_conditions.set.velocity_inlet(\n",
    "    \"hot-inlet\", [], \"ke-spec\", \"no\", \"no\", \"no\", \"yes\", \"quit\"\n",
    ")\n",
    "solver.tui.define.boundary_conditions.set.velocity_inlet(\n",
    "    \"hot-inlet\", [], \"turb-intensity\", 5, \"quit\"\n",
    ")\n",
    "solver.tui.define.boundary_conditions.set.velocity_inlet(\n",
    "    \"hot-inlet\", [], \"turb-hydraulic-diam\", 1, \"quit\"\n",
    ")\n",
    "solver.tui.define.boundary_conditions.set.velocity_inlet(\n",
    "    \"hot-inlet\", [], \"temperature\", \"no\", 313.15, \"quit\"\n",
    ")\n",
    "\n",
    "# pressure outlet (outlet), Setting: Value:\n",
    "# Backflow Turbulent Intensity: 5 [%]\n",
    "# Backflow Turbulent Viscosity Ratio: 4\n",
    "\n",
    "solver.tui.define.boundary_conditions.set.pressure_outlet(\n",
    "    \"outlet\", [], \"turb-intensity\", 5, \"quit\"\n",
    ")\n",
    "solver.tui.define.boundary_conditions.set.pressure_outlet(\n",
    "    \"outlet\", [], \"turb-viscosity-ratio\", 4, \"quit\"\n",
    ")"
   ]
  },
  {
   "cell_type": "markdown",
   "metadata": {},
   "source": [
    "## Enable plotting of residuals during calculation\n",
    "Enable plotting of residuals during the calculation.\n",
    "\n"
   ]
  },
  {
   "cell_type": "code",
   "execution_count": 22,
   "metadata": {
    "collapsed": false,
    "jupyter": {
     "outputs_hidden": false
    }
   },
   "outputs": [],
   "source": [
    "solver.tui.solve.monitors.residual.plot(\"yes\")"
   ]
  },
  {
   "cell_type": "markdown",
   "metadata": {},
   "source": [
    "## Create surface report definition\n",
    "Create a surface report definition of the average temperature at the outlet\n",
    "named ``\"outlet-temp-avg\"``.\n",
    "\n"
   ]
  },
  {
   "cell_type": "code",
   "execution_count": 23,
   "metadata": {
    "collapsed": false,
    "jupyter": {
     "outputs_hidden": false
    }
   },
   "outputs": [],
   "source": [
    "solver.tui.solve.report_definitions.add(\n",
    "    \"outlet-temp-avg\",\n",
    "    \"surface-massavg\",\n",
    "    \"field\",\n",
    "    \"temperature\",\n",
    "    \"surface-names\",\n",
    "    \"outlet\",\n",
    "    \"()\",\n",
    "    \"quit\",\n",
    ")"
   ]
  },
  {
   "cell_type": "markdown",
   "metadata": {},
   "source": [
    "## Create expression report definition\n",
    "Create a report definition of single value expression type computing the difference\n",
    "of area-averaged static pressure over cold-inlet and oulet. The name of the\n",
    "report definition is ``\"ave-pressure-diff\"``.\n",
    "\n"
   ]
  },
  {
   "cell_type": "code",
   "execution_count": 24,
   "metadata": {
    "collapsed": false,
    "jupyter": {
     "outputs_hidden": false
    }
   },
   "outputs": [],
   "source": [
    "solver.tui.solve.report_definitions.add(\n",
    "    \"ave-pressure-diff\",\n",
    "    \"single-val-expression\",\n",
    "    \"define\",\n",
    "    \"\\\"AreaAve(StaticPressure, ['cold-inlet'])-AreaAve(StaticPressure, ['outlet'])\\\"\",\n",
    "    \"quit\",\n",
    ")"
   ]
  },
  {
   "cell_type": "markdown",
   "metadata": {},
   "source": [
    "## Create convergence condition\n",
    "Create a convergence condition for ``outlet-temp-avg``.\n",
    "\n"
   ]
  },
  {
   "cell_type": "code",
   "execution_count": 25,
   "metadata": {
    "collapsed": false,
    "jupyter": {
     "outputs_hidden": false
    }
   },
   "outputs": [],
   "source": [
    "# - Set ``\"add\"`` to ``\"con-outlet-temp-avg\"``.\n",
    "# - Set ``\"report-defs\"`` to ``\"outlet-temp-avg\"``.\n",
    "# - Set ``\"stop-criterion\"`` to ``\"1e-04\"``.\n",
    "# - Set ``\"initial-values-to-ignore\"`` to ``\"20\"``.\n",
    "# - Set ``\"previous-values-to-consider\"`` to ``\"15\"``.\n",
    "# - Set ``\"print?\"``to ``\"yes\"``.\n",
    "# - Set ``\"frequency\"`` to ``\"3\"``.\n",
    "#\n",
    "# These settings cause Fluent to consider the solution converged when the\n",
    "# surface report definition value for each of the previous 15 iterations is\n",
    "# within 0.001% of the current value. Convergence of the values is checked\n",
    "# every 3 iterations. The first 20 iterations are ignored, allowing for any\n",
    "# initial solution dynamics to settle out. Note that the value printed to the\n",
    "# console is the deviation between the current and previous iteration values\n",
    "# only.\n",
    "\n",
    "solver.tui.solve.convergence_conditions(\n",
    "    \"conv-reports\",\n",
    "    \"add\",\n",
    "    \"con-outlet-temp-avg\",\n",
    "    \"initial-values-to-ignore\",\n",
    "    \"20\",\n",
    "    \"previous-values-to-consider\",\n",
    "    \"15\",\n",
    "    \"print?\",\n",
    "    \"yes\",\n",
    "    \"report-defs\",\n",
    "    \"outlet-temp-avg\",\n",
    "    \"stop-criterion\",\n",
    "    \"1e-04\",\n",
    "    \"quit\",\n",
    "    \"quit\",\n",
    "    \"condition\",\n",
    "    \"1\",\n",
    "    \"frequency\",\n",
    "    \"3\",\n",
    "    \"quit\",\n",
    ")\n",
    "solver.tui.solve.convergence_conditions(\"frequency\", \"3\", \"quit\")"
   ]
  },
  {
   "cell_type": "markdown",
   "metadata": {},
   "source": [
    "## Initialize flow field\n",
    "Initialize the flow field using hybrid initialization.\n",
    "\n"
   ]
  },
  {
   "cell_type": "code",
   "execution_count": 26,
   "metadata": {
    "collapsed": false,
    "jupyter": {
     "outputs_hidden": false
    }
   },
   "outputs": [
    {
     "name": "stdout",
     "output_type": "stream",
     "text": [
      "\n",
      "Initialize using the hybrid initialization method.\n",
      "\n",
      "Checking case topology... \n",
      "-This case has both inlets & outlets \n",
      "-Pressure information is not available at the boundaries.\n",
      " Case will be initialized with constant pressure\n",
      "\n",
      "\titer\t\tscalar-0\n",
      "\n",
      "\t1\t\t1.000000e+00\n",
      "\t2\t\t1.708608e-04\n",
      "\t3\t\t1.052373e-05\n",
      "\t4\t\t9.603597e-06\n",
      "\t5\t\t1.578902e-06\n",
      "\t6\t\t1.910754e-06\n",
      "\t7\t\t2.946801e-07\n",
      "\t8\t\t3.112303e-07\n",
      "\t9\t\t6.717548e-08\n",
      "\t10\t\t6.845503e-08\n",
      "\n",
      "Hybrid initialization is done.\n"
     ]
    }
   ],
   "source": [
    "solver.tui.solve.initialize.hyb_initialization()"
   ]
  },
  {
   "cell_type": "markdown",
   "metadata": {},
   "source": [
    "## Save case file\n",
    "Solve the case file (``mixing_elbow1.cas.h5``).\n",
    "\n"
   ]
  },
  {
   "cell_type": "code",
   "execution_count": 27,
   "metadata": {
    "collapsed": false,
    "jupyter": {
     "outputs_hidden": false
    }
   },
   "outputs": [],
   "source": [
    "solver.tui.file.write_case(\"mixing_elbow1.cas.h5\")"
   ]
  },
  {
   "cell_type": "markdown",
   "metadata": {},
   "source": [
    "## Solve for 100 iterations\n",
    "Solve for 100 iterations.\n",
    "\n"
   ]
  },
  {
   "cell_type": "code",
   "execution_count": 28,
   "metadata": {
    "collapsed": false,
    "jupyter": {
     "outputs_hidden": false
    }
   },
   "outputs": [
    {
     "name": "stdout",
     "output_type": "stream",
     "text": [
      "\n",
      "  iter  continuity  x-velocity  y-velocity  z-velocity      energy           k       omega  con-outlet     time/iter\n",
      "     1  1.0000e+00  4.0949e-03  4.4988e-03  1.1411e-03  8.6001e-05  9.7093e-02  6.9123e-01              0:01:39   99\n",
      "     2  7.9965e-01  2.5043e-03  3.0587e-03  7.0022e-04  9.9557e-05  5.4295e-02  9.4588e-02              0:01:18   98\n",
      "     3  7.6964e-01  1.5850e-03  2.2765e-03  6.0098e-04  1.0678e-04  1.9930e-02  6.0268e-02              0:01:02   97\n",
      "     4  7.3325e-01  1.0561e-03  1.9607e-03  4.9186e-04  1.1585e-04  1.7137e-02  3.8398e-02              0:01:08   96\n",
      "     5  7.0484e-01  8.9803e-04  1.8170e-03  4.2925e-04  1.2207e-04  1.5995e-02  2.6463e-02              0:00:54   95\n",
      "     6  6.5252e-01  8.5382e-04  1.7167e-03  3.9214e-04  1.2409e-04  1.5803e-02  2.0268e-02              0:00:43   94\n",
      "     7  5.9230e-01  8.0059e-04  1.6432e-03  3.6296e-04  1.2303e-04  1.6102e-02  1.6926e-02              0:00:34   93\n",
      "     8  5.3619e-01  7.4537e-04  1.5738e-03  3.3702e-04  1.1968e-04  1.6867e-02  1.4380e-02              0:00:27   92\n",
      "     9  4.8604e-01  6.9875e-04  1.5149e-03  3.1410e-04  1.1369e-04  1.7654e-02  1.2378e-02              0:00:39   91\n",
      "    10  4.5207e-01  6.6917e-04  1.4411e-03  2.9522e-04  1.0570e-04  1.8029e-02  1.0688e-02              0:00:31   90\n",
      "    11  4.1747e-01  6.3931e-04  1.3611e-03  2.7959e-04  9.6174e-05  1.7957e-02  9.2926e-03              0:00:25   89\n",
      "\n",
      "  iter  continuity  x-velocity  y-velocity  z-velocity      energy           k       omega  con-outlet     time/iter\n",
      "    12  3.8455e-01  6.0837e-04  1.2763e-03  2.6550e-04  8.5560e-05  1.7468e-02  8.2398e-03              0:00:20   88\n",
      "    13  3.5892e-01  5.7788e-04  1.1812e-03  2.5269e-04  7.4793e-05  1.6601e-02  7.3285e-03              0:00:15   87\n",
      "    14  3.3356e-01  5.4738e-04  1.0855e-03  2.4055e-04  6.3531e-05  1.5412e-02  6.5208e-03              0:00:29   86\n",
      "    15  3.1097e-01  5.1829e-04  9.9534e-04  2.2880e-04  5.3896e-05  1.4002e-02  5.7923e-03              0:00:23   85\n",
      "    16  2.9296e-01  4.8968e-04  9.0729e-04  2.1836e-04  4.7036e-05  1.2497e-02  5.1554e-03              0:00:18   84\n",
      "    17  2.7825e-01  4.6199e-04  8.2247e-04  2.0875e-04  4.2435e-05  1.0993e-02  4.5797e-03              0:00:15   83\n",
      "    18  2.6463e-01  4.3354e-04  7.4484e-04  2.0021e-04  3.9366e-05  9.5741e-03  4.0467e-03              0:00:28   82\n",
      "    19  2.4986e-01  4.0434e-04  6.7593e-04  1.9208e-04  3.6642e-05  8.2535e-03  3.5891e-03              0:00:22   81\n",
      "    20  2.3652e-01  3.7764e-04  6.1878e-04  1.8478e-04  3.3510e-05  7.0722e-03  3.2140e-03              0:00:17   80\n",
      "    21  2.2366e-01  3.5154e-04  5.7046e-04  1.7783e-04  3.0044e-05  6.0205e-03  2.8992e-03              0:00:14   79\n",
      "    22  2.1185e-01  3.2669e-04  5.3211e-04  1.7126e-04  2.6606e-05  5.1081e-03  2.6249e-03              0:00:11   78\n",
      "\n",
      "  iter  continuity  x-velocity  y-velocity  z-velocity      energy           k       omega  con-outlet     time/iter\n",
      "    23  2.0122e-01  3.0315e-04  5.0298e-04  1.6457e-04  2.3272e-05  4.3281e-03  2.3852e-03              0:00:24   77\n",
      "    24  1.9152e-01  2.8143e-04  4.7712e-04  1.5770e-04  2.0192e-05  3.6999e-03  2.1821e-03              0:00:19   76\n",
      "    25  1.8043e-01  2.6079e-04  4.5390e-04  1.5056e-04  1.7438e-05  3.2217e-03  2.0002e-03              0:00:15   75\n",
      "    26  1.7042e-01  2.4159e-04  4.3322e-04  1.4282e-04  1.5032e-05  2.8316e-03  1.8338e-03              0:00:12   74\n",
      "    27  1.6165e-01  2.2368e-04  4.1383e-04  1.3466e-04  1.2943e-05  2.4900e-03  1.6840e-03              0:00:09   73\n",
      "    28  1.5142e-01  2.0670e-04  3.9254e-04  1.2690e-04  1.1159e-05  2.2112e-03  1.5455e-03              0:00:22   72\n",
      "    29  1.4155e-01  1.9078e-04  3.7043e-04  1.1882e-04  9.6632e-06  1.9905e-03  1.4222e-03              0:00:17   71\n",
      "    30  1.3211e-01  1.7586e-04  3.4739e-04  1.1058e-04  8.4030e-06  1.8137e-03  1.3134e-03              0:00:14   70\n",
      "    31  1.2402e-01  1.6197e-04  3.2467e-04  1.0242e-04  7.3305e-06  1.6667e-03  1.2158e-03              0:00:11   69\n",
      "    32  1.1533e-01  1.4892e-04  3.0249e-04  9.4540e-05  6.3994e-06  1.5396e-03  1.1289e-03              0:00:22   68\n",
      "    33  1.0723e-01  1.3672e-04  2.8060e-04  8.6992e-05  5.6017e-06  1.4284e-03  1.0477e-03              0:00:17   67\n",
      "\n",
      "  iter  continuity  x-velocity  y-velocity  z-velocity      energy           k       omega  con-outlet     time/iter\n",
      "    34  9.9458e-02  1.2541e-04  2.6017e-04  7.9954e-05  4.9225e-06  1.3297e-03  9.7401e-04              0:00:14   66\n",
      "    35  9.2218e-02  1.1491e-04  2.4173e-04  7.3371e-05  4.3529e-06  1.2411e-03  9.0910e-04              0:00:24   65\n",
      "    36  8.5668e-02  1.0524e-04  2.2444e-04  6.7267e-05  3.8709e-06  1.1577e-03  8.4926e-04  2.4791e-03  0:00:19   64\n",
      "    37  7.9715e-02  9.6253e-05  2.0820e-04  6.1669e-05  3.4528e-06  1.0780e-03  7.9199e-04              0:00:15   63\n",
      "    38  7.3782e-02  8.7944e-05  1.9301e-04  5.6512e-05  3.0903e-06  1.0055e-03  7.3666e-04              0:00:12   62\n",
      "    39  6.8428e-02  8.0296e-05  1.7889e-04  5.1766e-05  2.7767e-06  9.4158e-04  6.8371e-04  1.6475e-03  0:00:09   61\n",
      "    40  6.3486e-02  7.3262e-05  1.6554e-04  4.7413e-05  2.5044e-06  8.8400e-04  6.3489e-04              0:00:19   60\n",
      "    41  5.8778e-02  6.6869e-05  1.5301e-04  4.3420e-05  2.2680e-06  8.2830e-04  5.8958e-04              0:00:15   59\n",
      "    42  5.4536e-02  6.1033e-05  1.4122e-04  3.9769e-05  2.0600e-06  7.7738e-04  5.4713e-04  1.0787e-03  0:00:12   58\n",
      "    43  5.0662e-02  5.5771e-05  1.3015e-04  3.6441e-05  1.8781e-06  7.2786e-04  5.0678e-04              0:00:09   57\n",
      "    44  4.6836e-02  5.0989e-05  1.2036e-04  3.3421e-05  1.7188e-06  6.8140e-04  4.6859e-04              0:00:19   56\n",
      "\n",
      "  iter  continuity  x-velocity  y-velocity  z-velocity      energy           k       omega  con-outlet     time/iter\n",
      "    45  4.3462e-02  4.6550e-05  1.1130e-04  3.0679e-05  1.5771e-06  6.3838e-04  4.3232e-04  7.0511e-04  0:00:15   55\n",
      "    46  4.0282e-02  4.2532e-05  1.0290e-04  2.8176e-05  1.4491e-06  5.9617e-04  3.9888e-04              0:00:11   54\n",
      "    47  3.7346e-02  3.8864e-05  9.5126e-05  2.5900e-05  1.3333e-06  5.5609e-04  3.6817e-04              0:00:09   53\n",
      "    48  3.4640e-02  3.5509e-05  8.7776e-05  2.3823e-05  1.2270e-06  5.1692e-04  3.3992e-04  4.4866e-04  0:00:07   52\n",
      "    49  3.2175e-02  3.2470e-05  8.0939e-05  2.1911e-05  1.1285e-06  4.7995e-04  3.1398e-04              0:00:16   51\n",
      "    50  2.9810e-02  2.9706e-05  7.4491e-05  2.0156e-05  1.0379e-06  4.4455e-04  2.8989e-04              0:00:12   50\n",
      "    51  2.7737e-02  2.7189e-05  6.8427e-05  1.8544e-05  9.5446e-07  4.1043e-04  2.6683e-04  2.7659e-04  0:00:10   49\n",
      "    52  2.5662e-02  2.4907e-05  6.2793e-05  1.7062e-05  8.7834e-07  3.7841e-04  2.4481e-04              0:00:08   48\n",
      "    53  2.3689e-02  2.2828e-05  5.7495e-05  1.5709e-05  8.0823e-07  3.4759e-04  2.2405e-04              0:00:15   47\n",
      "    54  2.1923e-02  2.0925e-05  5.2619e-05  1.4463e-05  7.4337e-07  3.1893e-04  2.0485e-04  1.6718e-04  0:00:12   46\n",
      "    55  2.0231e-02  1.9184e-05  4.8140e-05  1.3328e-05  6.8348e-07  2.9246e-04  1.8714e-04              0:00:09   45\n",
      "\n",
      "  iter  continuity  x-velocity  y-velocity  z-velocity      energy           k       omega  con-outlet     time/iter\n",
      "    56  1.8662e-02  1.7592e-05  4.4030e-05  1.2287e-05  6.2841e-07  2.6755e-04  1.7090e-04              0:00:07   44\n",
      "Solution for report definition outlet-temp-avg has converged\n",
      "    57  1.7187e-02  1.6141e-05  4.0268e-05  1.1329e-05  5.7760e-07  2.4479e-04  1.5601e-04  9.9652e-05  0:00:06   43\n",
      "    58  1.5828e-02  1.4797e-05  3.6856e-05  1.0444e-05  5.3013e-07  2.2367e-04  1.4236e-04              0:00:13   42\n",
      "    59  1.4570e-02  1.3559e-05  3.3749e-05  9.6257e-06  4.8554e-07  2.0420e-04  1.2990e-04              0:00:10   41\n",
      "Solution for report definition outlet-temp-avg has converged\n",
      "    60  1.3406e-02  1.2416e-05  3.0897e-05  8.8687e-06  4.4406e-07  1.8640e-04  1.1847e-04  5.8105e-05  0:00:08   40\n",
      "    61  1.2345e-02  1.1366e-05  2.8266e-05  8.1657e-06  4.0564e-07  1.7015e-04  1.0796e-04              0:00:06   39\n",
      "    62  1.1360e-02  1.0400e-05  2.5839e-05  7.5127e-06  3.6996e-07  1.5562e-04  9.8369e-05              0:00:12   38\n",
      "Solution for report definition outlet-temp-avg has converged\n",
      "    63  1.0444e-02  9.5121e-06  2.3594e-05  6.9094e-06  3.3677e-07  1.4238e-04  8.9604e-05  3.2360e-05  0:00:10   37\n",
      "    64  9.5880e-03  8.6955e-06  2.1523e-05  6.3508e-06  3.0589e-07  1.3018e-04  8.1602e-05              0:00:08   36\n",
      "    65  8.7978e-03  7.9428e-06  1.9617e-05  5.8326e-06  2.7731e-07  1.1899e-04  7.4284e-05              0:00:06   35\n",
      "Solution for report definition outlet-temp-avg has converged\n",
      "    66  8.0626e-03  7.2514e-06  1.7862e-05  5.3518e-06  2.5098e-07  1.0858e-04  6.7544e-05  1.6784e-05  0:00:05   34\n",
      "\n",
      "  iter  continuity  x-velocity  y-velocity  z-velocity      energy           k       omega  con-outlet     time/iter\n",
      "    67  7.3913e-03  6.6158e-06  1.6250e-05  4.9058e-06  2.2671e-07  9.8836e-05  6.1331e-05              0:00:10   33\n",
      "    68  6.7753e-03  6.0338e-06  1.4771e-05  4.4933e-06  2.0433e-07  8.9978e-05  5.5609e-05              0:00:08   32\n",
      "Solution for report definition outlet-temp-avg has converged\n",
      "    69  6.2045e-03  5.5000e-06  1.3421e-05  4.1110e-06  1.8395e-07  8.1795e-05  5.0355e-05  7.8004e-06  0:00:06   31\n",
      "    70  5.6647e-03  5.0094e-06  1.2177e-05  3.7583e-06  1.6539e-07  7.4248e-05  4.5523e-05              0:00:05   30\n",
      "    71  5.1687e-03  4.5609e-06  1.1041e-05  3.4323e-06  1.4847e-07  6.7329e-05  4.1096e-05              0:00:04   29\n",
      "Solution for report definition outlet-temp-avg has converged\n",
      "    72  4.7181e-03  4.1497e-06  1.0006e-05  3.1318e-06  1.3302e-07  6.0973e-05  3.7050e-05  3.0402e-06  0:00:08   28\n",
      "    73  4.3020e-03  3.7735e-06  9.0606e-06  2.8549e-06  1.1894e-07  5.5151e-05  3.3370e-05              0:00:06   27\n",
      "    74  3.9175e-03  3.4294e-06  8.1996e-06  2.5997e-06  1.0618e-07  4.9814e-05  3.0013e-05              0:00:05   26\n",
      "Solution for report definition outlet-temp-avg has converged\n",
      "    75  3.5650e-03  3.1148e-06  7.4132e-06  2.3647e-06  9.4655e-08  4.4938e-05  2.6962e-05  6.7047e-07  0:00:04   25\n",
      "    76  3.2426e-03  2.8274e-06  6.6946e-06  2.1485e-06  8.4237e-08  4.0462e-05  2.4195e-05              0:00:08   24\n",
      "    77  2.9461e-03  2.5640e-06  6.0388e-06  1.9496e-06  7.4832e-08  3.6382e-05  2.1692e-05              0:00:06   23\n",
      "\n",
      "  iter  continuity  x-velocity  y-velocity  z-velocity      energy           k       omega  con-outlet     time/iter\n",
      "Solution for report definition outlet-temp-avg has converged\n",
      "    78  2.6746e-03  2.3230e-06  5.4420e-06  1.7669e-06  6.6365e-08  3.2675e-05  1.9428e-05  7.1500e-07  0:00:05   22\n",
      "    79  2.4253e-03  2.1030e-06  4.8999e-06  1.5993e-06  5.8771e-08  2.9304e-05  1.7390e-05              0:00:03   21\n",
      "    80  2.1967e-03  1.9024e-06  4.4073e-06  1.4459e-06  5.1965e-08  2.6245e-05  1.5552e-05              0:00:03   20\n",
      "Solution for report definition outlet-temp-avg has converged\n",
      "    81  1.9883e-03  1.7197e-06  3.9600e-06  1.3057e-06  4.5923e-08  2.3488e-05  1.3903e-05  9.2927e-07  0:00:06   19\n",
      "    82  1.7994e-03  1.5551e-06  3.5545e-06  1.1781e-06  4.0539e-08  2.0996e-05  1.2417e-05              0:00:04   18\n",
      "    83  1.6267e-03  1.4055e-06  3.1885e-06  1.0617e-06  3.5723e-08  1.8744e-05  1.1082e-05              0:00:03   17\n",
      "Solution for report definition outlet-temp-avg has converged\n",
      "    84  1.4691e-03  1.2689e-06  2.8581e-06  9.5562e-07  3.1420e-08  1.6715e-05  9.8831e-06  1.0589e-06  0:00:03   16\n",
      "    85  1.3257e-03  1.1440e-06  2.5599e-06  8.5917e-07  2.7578e-08  1.4886e-05  8.8072e-06              0:00:05   15\n",
      "    86  1.1950e-03  1.0297e-06  2.2920e-06  7.7163e-07  2.4151e-08  1.3239e-05  7.8424e-06              0:00:04   14\n",
      "Solution for report definition outlet-temp-avg has converged\n",
      "    87  1.0759e-03  9.2566e-07  2.0515e-06  6.9211e-07  2.1103e-08  1.1759e-05  6.9772e-06  1.0221e-06  0:00:03   13\n",
      "    88  9.6741e-04  8.3119e-07  1.8350e-06  6.2006e-07  1.8401e-08  1.0433e-05  6.2029e-06              0:00:02   12\n",
      "!   88 solution is converged\n",
      "\n",
      "  iter  continuity  x-velocity  y-velocity  z-velocity      energy           k       omega  con-outlet     time/iter\n",
      "    89  8.6772e-04  7.4639e-07  1.6407e-06  5.5485e-07  1.5981e-08  9.2412e-06  5.5042e-06              0:00:01   11\n",
      "Solution for report definition outlet-temp-avg has converged\n",
      "!   90 report definition solution is converged\n",
      "    90  7.7631e-04  6.7325e-07  1.4687e-06  4.9578e-07  1.3843e-08  8.1740e-06  4.8823e-06  9.1101e-07  0:00:03   10\n",
      "!   90 solution is converged\n"
     ]
    }
   ],
   "source": [
    "solver.tui.solve.iterate(100)"
   ]
  },
  {
   "cell_type": "markdown",
   "metadata": {},
   "source": [
    "<img src=\"file://_static/mixing_elbow_012.png\" width=\"500pt\" align=\"center\">\n",
    "\n"
   ]
  },
  {
   "cell_type": "markdown",
   "metadata": {},
   "source": [
    "<img src=\"file://_static/mixing_elbow_013.png\" width=\"500pt\" align=\"center\">\n",
    "\n"
   ]
  },
  {
   "cell_type": "markdown",
   "metadata": {},
   "source": [
    "## Save data file\n",
    "Save the data file (``mixing_elbow1.dat.h5``).\n",
    "\n"
   ]
  },
  {
   "cell_type": "code",
   "execution_count": 29,
   "metadata": {
    "collapsed": false,
    "jupyter": {
     "outputs_hidden": false
    }
   },
   "outputs": [
    {
     "name": "stdout",
     "output_type": "stream",
     "text": [
      "\n",
      "WARNING: The saved data file is not compatible with the previously \n",
      "read or saved case file. Save the case file as well. Otherwise the \n",
      "data file cannot be read back into the solver.\n",
      "\n"
     ]
    }
   ],
   "source": [
    "solver.tui.file.write_data(\"mixing_elbow1.dat.h5\")"
   ]
  },
  {
   "attachments": {},
   "cell_type": "markdown",
   "metadata": {},
   "source": [
    "### Create definition for velocity magnitude contours\n",
    "Create and display a definition for the velocity magnitude contours on the\n",
    "symmetry plane.\n",
    "\n",
    "- Set ``\"contour\"`` to ``\"contour-vel\"``.\n",
    "- Set ``\"field\"`` to ``\"velocity-magnitude\"``.\n",
    "- Set ``\"surfaces-list\"`` to ``\"symmetry-xyplane\"``.\n",
    "- Set ``\"display\"`` to ``\"contour-vel contour\"``.\n",
    "\n"
   ]
  },
  {
   "cell_type": "code",
   "execution_count": 30,
   "metadata": {
    "collapsed": false,
    "jupyter": {
     "outputs_hidden": false
    }
   },
   "outputs": [],
   "source": [
    "solver.tui.display.objects.create(\n",
    "    \"contour\",\n",
    "    \"contour-vel\",\n",
    "    \"filled?\",\n",
    "    \"yes\",\n",
    "    \"node-values?\",\n",
    "    \"yes\",\n",
    "    \"field\",\n",
    "    \"velocity-magnitude\",\n",
    "    \"surfaces-list\",\n",
    "    \"symmetry-xyplane\",\n",
    "    \"()\",\n",
    "    \"coloring\",\n",
    "    \"banded\",\n",
    "    \"quit\",\n",
    ")"
   ]
  },
  {
   "cell_type": "markdown",
   "metadata": {},
   "source": [
    "<img src=\"file://_static/mixing_elbow_014.png\" width=\"500pt\" align=\"center\">\n",
    "\n"
   ]
  },
  {
   "cell_type": "markdown",
   "metadata": {},
   "source": [
    "## Create definition for temperature contours\n",
    "Create and display a definition for temperature contours on the symmetry\n",
    "plane.\n",
    "\n",
    "- Set ``\"contour\"`` to ``\"contour-temp\"``.\n",
    "- Set ``\"field\"`` to ``\"temperature\"``.\n",
    "- Set ``\"surfaces-list\"`` to ``\"symmetry-xyplane\"``.\n",
    "- Set ``\"display\"`` to ``\"contour-temp contour\"``.\n",
    "\n"
   ]
  },
  {
   "cell_type": "code",
   "execution_count": 31,
   "metadata": {
    "collapsed": false,
    "jupyter": {
     "outputs_hidden": false
    }
   },
   "outputs": [],
   "source": [
    "solver.tui.display.objects.create(\n",
    "    \"contour\",\n",
    "    \"contour-temp\",\n",
    "    \"filled?\",\n",
    "    \"yes\",\n",
    "    \"node-values?\",\n",
    "    \"yes\",\n",
    "    \"field\",\n",
    "    \"temperature\",\n",
    "    \"surfaces-list\",\n",
    "    \"symmetry-xyplane\",\n",
    "    \"()\",\n",
    "    \"coloring\",\n",
    "    \"smooth\",\n",
    "    \"quit\",\n",
    ")"
   ]
  },
  {
   "cell_type": "markdown",
   "metadata": {},
   "source": [
    "<img src=\"file://_static/mixing_elbow_015.png\" width=\"500pt\" align=\"center\">\n",
    "\n"
   ]
  },
  {
   "cell_type": "markdown",
   "metadata": {},
   "source": [
    "## Create velocity vectors\n",
    "Create and display velocity vectors on the symmetry-xyplane plane.\n",
    "\n",
    "- Set ``\"vector\"`` to ``\"vector-vel\"``.\n",
    "- Set ``\"style\"`` to ``\"arrow\"``.\n",
    "- Set ``\"surface-list\"`` to ``\"symmetry-xyplane\"``.\n",
    "- Set ``\"scale\"`` to ``\"4\"``.\n",
    "- Set ``\"skip\"`` to ``\"2\"``.\n",
    "\n"
   ]
  },
  {
   "cell_type": "code",
   "execution_count": 32,
   "metadata": {
    "collapsed": false,
    "jupyter": {
     "outputs_hidden": false
    }
   },
   "outputs": [],
   "source": [
    "solver.tui.display.objects.create(\n",
    "    \"vector\",\n",
    "    \"vector-vel\",\n",
    "    \"style\",\n",
    "    \"arrow\",\n",
    "    \"surface-list\",\n",
    "    \"symmetry-xyplane\",\n",
    "    \"()\",\n",
    "    \"scale\",\n",
    "    \"scale-f\",\n",
    "    \"4\",\n",
    "    \"quit\",\n",
    "    \"skip\",\n",
    "    \"2\",\n",
    "    \"quit\",\n",
    ")"
   ]
  },
  {
   "cell_type": "markdown",
   "metadata": {},
   "source": [
    "<img src=\"file://_static/mixing_elbow_016.png\" width=\"500pt\" align=\"center\">\n",
    "\n"
   ]
  },
  {
   "cell_type": "markdown",
   "metadata": {},
   "source": [
    "## Create iso-surface\n",
    "Create an iso-surface representing the intersection of the plane z=0 and the\n",
    "surface outlet. Name it ``\"z=0_outlet\"``.\n",
    "\n"
   ]
  },
  {
   "cell_type": "code",
   "execution_count": 33,
   "metadata": {
    "collapsed": false,
    "jupyter": {
     "outputs_hidden": false
    }
   },
   "outputs": [],
   "source": [
    "solver.tui.surface.iso_surface(\n",
    "    \"z-coordinate\", \"z=0_outlet\", \"outlet\", \"()\", \"()\", \"0\", \"()\"\n",
    ")"
   ]
  },
  {
   "cell_type": "markdown",
   "metadata": {},
   "source": [
    "## Display and save XY plot\n",
    "Display and save an XY plot of the temperature profile across the centerline\n",
    "of the outlet for the initial solution.\n",
    "\n"
   ]
  },
  {
   "cell_type": "code",
   "execution_count": 34,
   "metadata": {
    "collapsed": false,
    "jupyter": {
     "outputs_hidden": false
    }
   },
   "outputs": [],
   "source": [
    "solver.tui.display.objects.create(\n",
    "    \"xy\",\n",
    "    \"xy-outlet-temp\",\n",
    "    \"y-axis-function\",\n",
    "    \"temperature\",\n",
    "    \"surfaces-list\",\n",
    "    \"z=0_outlet\",\n",
    "    \"()\",\n",
    "    \"quit\",\n",
    ")"
   ]
  },
  {
   "cell_type": "markdown",
   "metadata": {},
   "source": [
    "<img src=\"file://_static/mixing_elbow_017.png\" width=\"500pt\" align=\"center\">\n",
    "\n"
   ]
  },
  {
   "cell_type": "markdown",
   "metadata": {},
   "source": [
    "## Write final case file and data\n",
    "Write the final case file and the data.\n",
    "\n"
   ]
  },
  {
   "cell_type": "code",
   "execution_count": 35,
   "metadata": {
    "collapsed": false,
    "jupyter": {
     "outputs_hidden": false
    }
   },
   "outputs": [],
   "source": [
    "solver.tui.file.write_case_data(\"mixing_elbow2_tui.cas.h5\")"
   ]
  },
  {
   "cell_type": "markdown",
   "metadata": {},
   "source": [
    "## Close Fluent\n",
    "Close Fluent.\n",
    "\n"
   ]
  },
  {
   "cell_type": "code",
   "execution_count": 36,
   "metadata": {
    "collapsed": false,
    "jupyter": {
     "outputs_hidden": false
    }
   },
   "outputs": [],
   "source": [
    "solver.exit()"
   ]
  }
 ],
 "metadata": {
  "kernelspec": {
   "display_name": "Python 3 (ipykernel)",
   "language": "python",
   "name": "python3"
  },
  "language_info": {
   "codemirror_mode": {
    "name": "ipython",
    "version": 3
   },
   "file_extension": ".py",
   "mimetype": "text/x-python",
   "name": "python",
   "nbconvert_exporter": "python",
   "pygments_lexer": "ipython3",
   "version": "3.10.10"
  }
 },
 "nbformat": 4,
 "nbformat_minor": 4
}
