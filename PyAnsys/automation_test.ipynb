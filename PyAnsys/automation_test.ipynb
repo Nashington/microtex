{
 "cells": [
  {
   "cell_type": "markdown",
   "id": "947cf180",
   "metadata": {},
   "source": [
    "### Importing packages"
   ]
  },
  {
   "cell_type": "code",
   "execution_count": 86,
   "id": "703ff879",
   "metadata": {},
   "outputs": [],
   "source": [
    "import ansys.fluent.core as pyfluent\n",
    "meshing_session = pyfluent.launch_fluent(precision=\"double\", processor_count=4, mode=\"meshing\", show_gui=False)\n",
    "# set start_tracript to False for now? product_version=\"23.2.0\" is also an argument that can be passed\n",
    "workflow = meshing_session.workflow\n",
    "meshing = meshing_session.meshing"
   ]
  },
  {
   "cell_type": "markdown",
   "id": "15b21820",
   "metadata": {},
   "source": [
    "### Initializing workflow for meshing"
   ]
  },
  {
   "cell_type": "code",
   "execution_count": 87,
   "id": "8f50bd5f",
   "metadata": {},
   "outputs": [],
   "source": [
    "workflow.InitializeWorkflow(WorkflowType=r'Watertight Geometry')\n",
    "meshing.GlobalSettings.LengthUnit.set_state(r'um')\n",
    "meshing.GlobalSettings.AreaUnit.set_state(r'um^2')\n",
    "meshing.GlobalSettings.VolumeUnit.set_state(r'um^3')"
   ]
  },
  {
   "cell_type": "markdown",
   "id": "08f3dd8a",
   "metadata": {},
   "source": [
    "### Import geometry\n",
    "\n",
    "Replace file_location with the actual address of the Static Mixer geometry file.\n",
    "###### Eg: workflow.TaskObject['Import Geometry'].Arguments.set_state({r'FileName': r'D:/PyFluent/Static Mixer geometry.dsco',})\n"
   ]
  },
  {
   "cell_type": "code",
   "execution_count": 88,
   "id": "77d6ce2a",
   "metadata": {},
   "outputs": [
    {
     "data": {
      "text/plain": [
       "True"
      ]
     },
     "execution_count": 88,
     "metadata": {},
     "output_type": "execute_result"
    }
   ],
   "source": [
    "workflow.TaskObject['Import Geometry'].Arguments.set_state({r'FileName': r'E:\\Summer Placement\\Summer Placement Testbed\\automationtest.scdoc',\n",
    "                                                             \"LengthUnit\": \"um\",})\n",
    "workflow.TaskObject['Import Geometry'].Execute() "
   ]
  },
  {
   "cell_type": "markdown",
   "id": "a90267fd",
   "metadata": {},
   "source": [
    "### Add local sizing"
   ]
  },
  {
   "cell_type": "code",
   "execution_count": 89,
   "id": "a5253943",
   "metadata": {},
   "outputs": [
    {
     "data": {
      "text/plain": [
       "False"
      ]
     },
     "execution_count": 89,
     "metadata": {},
     "output_type": "execute_result"
    }
   ],
   "source": [
    "workflow.TaskObject['Add Local Sizing'].AddChildAndUpdate()"
   ]
  },
  {
   "cell_type": "markdown",
   "id": "a0618183",
   "metadata": {},
   "source": [
    "### Generate the Surface Mesh"
   ]
  },
  {
   "cell_type": "code",
   "execution_count": 90,
   "id": "2775042d",
   "metadata": {},
   "outputs": [
    {
     "data": {
      "text/plain": [
       "True"
      ]
     },
     "execution_count": 90,
     "metadata": {},
     "output_type": "execute_result"
    }
   ],
   "source": [
    "workflow.TaskObject['Generate the Surface Mesh'].Execute()"
   ]
  },
  {
   "cell_type": "markdown",
   "id": "4a0c53ec",
   "metadata": {},
   "source": [
    "### Describe geometry"
   ]
  },
  {
   "cell_type": "code",
   "execution_count": 91,
   "id": "ac0f40cf",
   "metadata": {},
   "outputs": [
    {
     "data": {
      "text/plain": [
       "True"
      ]
     },
     "execution_count": 91,
     "metadata": {},
     "output_type": "execute_result"
    }
   ],
   "source": [
    "workflow.TaskObject['Describe Geometry'].UpdateChildTasks(SetupTypeChanged=False)\n",
    "workflow.TaskObject['Describe Geometry'].Arguments.set_state({r'SetupType': r'The geometry consists of only fluid regions with no voids',})\n",
    "workflow.TaskObject['Describe Geometry'].UpdateChildTasks(SetupTypeChanged=True)\n",
    "workflow.TaskObject['Describe Geometry'].Execute()"
   ]
  },
  {
   "cell_type": "markdown",
   "id": "93ec33fc",
   "metadata": {},
   "source": [
    "### Updating boundaries"
   ]
  },
  {
   "cell_type": "code",
   "execution_count": 92,
   "id": "ad6d7275",
   "metadata": {},
   "outputs": [
    {
     "data": {
      "text/plain": [
       "True"
      ]
     },
     "execution_count": 92,
     "metadata": {},
     "output_type": "execute_result"
    }
   ],
   "source": [
    "workflow.TaskObject['Update Boundaries'].Execute()"
   ]
  },
  {
   "cell_type": "markdown",
   "id": "b03d6c23",
   "metadata": {},
   "source": [
    "### Updating regions"
   ]
  },
  {
   "cell_type": "code",
   "execution_count": 93,
   "id": "02b9b0c1",
   "metadata": {},
   "outputs": [
    {
     "data": {
      "text/plain": [
       "True"
      ]
     },
     "execution_count": 93,
     "metadata": {},
     "output_type": "execute_result"
    }
   ],
   "source": [
    "workflow.TaskObject['Update Regions'].Execute()"
   ]
  },
  {
   "cell_type": "markdown",
   "id": "efc5fa6d",
   "metadata": {},
   "source": [
    "### Add boundary layers"
   ]
  },
  {
   "cell_type": "code",
   "execution_count": 94,
   "id": "9e5ace1f",
   "metadata": {},
   "outputs": [
    {
     "data": {
      "text/plain": [
       "True"
      ]
     },
     "execution_count": 94,
     "metadata": {},
     "output_type": "execute_result"
    }
   ],
   "source": [
    "workflow.TaskObject['Add Boundary Layers'].Arguments.set_state({r'LocalPrismPreferences': {r'Continuous': r'Stair Step',},})\n",
    "workflow.TaskObject['Add Boundary Layers'].AddChildAndUpdate()"
   ]
  },
  {
   "cell_type": "markdown",
   "id": "9af01942",
   "metadata": {},
   "source": [
    "### Generate the volume Mesh"
   ]
  },
  {
   "cell_type": "code",
   "execution_count": 95,
   "id": "33041579",
   "metadata": {},
   "outputs": [
    {
     "data": {
      "text/plain": [
       "True"
      ]
     },
     "execution_count": 95,
     "metadata": {},
     "output_type": "execute_result"
    }
   ],
   "source": [
    "workflow.TaskObject[\"Generate the Volume Mesh\"].Arguments = {\"VolumeFill\": \"poly-hexcore\",}\n",
    "\n",
    "workflow.TaskObject['Generate the Volume Mesh'].Execute()"
   ]
  },
  {
   "cell_type": "markdown",
   "id": "3e968ebf",
   "metadata": {},
   "source": [
    "### Switch to solution"
   ]
  },
  {
   "cell_type": "code",
   "execution_count": 96,
   "id": "07ae87fe",
   "metadata": {},
   "outputs": [],
   "source": [
    "solver = meshing_session.switch_to_solver()"
   ]
  },
  {
   "attachments": {},
   "cell_type": "markdown",
   "id": "ae387ffb",
   "metadata": {},
   "source": [
    "### Enabling energy"
   ]
  },
  {
   "cell_type": "code",
   "execution_count": 97,
   "id": "75baf02a",
   "metadata": {},
   "outputs": [],
   "source": [
    "#solver.setup.models.energy = {\"enabled\" : False}"
   ]
  },
  {
   "cell_type": "markdown",
   "id": "e7b2353e",
   "metadata": {},
   "source": [
    "### Copying Water_liquid to materials panel"
   ]
  },
  {
   "cell_type": "code",
   "execution_count": 98,
   "id": "a167e5e0",
   "metadata": {},
   "outputs": [],
   "source": [
    "#solver.execute_tui(r'''/define/materials/copy fluid water-liquid ''')"
   ]
  },
  {
   "cell_type": "markdown",
   "id": "c64b4ef3",
   "metadata": {},
   "source": [
    "### Assigning water_liquid to fluid domain"
   ]
  },
  {
   "cell_type": "code",
   "execution_count": 99,
   "id": "7b11c3ee",
   "metadata": {},
   "outputs": [],
   "source": [
    "#solver.setup.cell_zone_conditions.fluid['fluid'] = {\"material\" : \"water-liquid\"}"
   ]
  },
  {
   "cell_type": "markdown",
   "id": "9f893c08",
   "metadata": {},
   "source": [
    "### Assigning boudary conditons"
   ]
  },
  {
   "cell_type": "code",
   "execution_count": 100,
   "id": "713037ca",
   "metadata": {},
   "outputs": [],
   "source": [
    "solver.setup.boundary_conditions.velocity_inlet['inlet'].vmag = 3.78\n",
    "# use this to find out available settings:\n",
    "# solver.setup.boundary_conditions.wall['moving-wall']()\n",
    "solver.setup.boundary_conditions.wall['moving-wall'].motion_bc = 'Moving Wall'\n",
    "solver.setup.boundary_conditions.wall['moving-wall'].vmag = 3.78\n",
    "solver.setup.boundary_conditions.wall['moving-wall'].wall_translation = [0, 0, 1]\n",
    "#solver.setup.boundary_conditions.wall['moving-wall']()"
   ]
  },
  {
   "cell_type": "markdown",
   "id": "62812790",
   "metadata": {},
   "source": [
    "### Residuals"
   ]
  },
  {
   "cell_type": "code",
   "execution_count": 101,
   "id": "53c7d8f6",
   "metadata": {},
   "outputs": [],
   "source": [
    "solver.tui.solve.monitors.residual.plot(\"yes\")"
   ]
  },
  {
   "attachments": {},
   "cell_type": "markdown",
   "id": "c2612367",
   "metadata": {},
   "source": [
    "### Create surface report definition"
   ]
  },
  {
   "cell_type": "code",
   "execution_count": 102,
   "id": "39781bcb",
   "metadata": {},
   "outputs": [],
   "source": [
    "solver.tui.solve.report_definitions.add(\n",
    "    \"outlet\",\n",
    "    \"surface-massavg\",\n",
    "    \"field\",\n",
    "    \"velocity-magnitude\",\n",
    "    \"surface-names\",\n",
    "    \"outlet\",\n",
    "    \"()\",\n",
    "    \"quit\",\n",
    ")"
   ]
  },
  {
   "cell_type": "markdown",
   "id": "a2d319e7",
   "metadata": {},
   "source": [
    "### Hybrid Initialization"
   ]
  },
  {
   "cell_type": "code",
   "execution_count": 103,
   "id": "fcd27b09",
   "metadata": {},
   "outputs": [],
   "source": [
    "solver.solution.initialization.hybrid_initialize()"
   ]
  },
  {
   "cell_type": "markdown",
   "id": "06244637",
   "metadata": {},
   "source": [
    "### Setting 20 iterations"
   ]
  },
  {
   "cell_type": "code",
   "execution_count": 104,
   "id": "61157309",
   "metadata": {},
   "outputs": [],
   "source": [
    "solver.solution.run_calculation.iterate(iter_count = 30)"
   ]
  },
  {
   "cell_type": "code",
   "execution_count": 76,
   "id": "b19419bc",
   "metadata": {},
   "outputs": [
    {
     "ename": "RuntimeError",
     "evalue": "wta(1st) to string->symbol\nError Object: #f",
     "output_type": "error",
     "traceback": [
      "\u001b[1;31m---------------------------------------------------------------------------\u001b[0m",
      "\u001b[1;31mRuntimeError\u001b[0m                              Traceback (most recent call last)",
      "Cell \u001b[1;32mIn[76], line 1\u001b[0m\n\u001b[1;32m----> 1\u001b[0m solver\u001b[39m.\u001b[39;49mtui\u001b[39m.\u001b[39;49msurface\u001b[39m.\u001b[39;49mplane(\n\u001b[0;32m      2\u001b[0m     \u001b[39m\"\u001b[39;49m\u001b[39myz-contour-plane\u001b[39;49m\u001b[39m\"\u001b[39;49m,\n\u001b[0;32m      3\u001b[0m     \u001b[39m\"\u001b[39;49m\u001b[39myz-plane\u001b[39;49m\u001b[39m\"\u001b[39;49m,\n\u001b[0;32m      4\u001b[0m     \u001b[39m\"\u001b[39;49m\u001b[39m0\u001b[39;49m\u001b[39m\"\u001b[39;49m\n\u001b[0;32m      5\u001b[0m )\n",
      "File \u001b[1;32me:\\anaconda3\\envs\\snowstorm\\lib\\site-packages\\ansys\\fluent\\core\\solver\\tui_232.py:26358\u001b[0m, in \u001b[0;36mmain_menu.surface.plane\u001b[1;34m(self, *args, **kwargs)\u001b[0m\n\u001b[0;32m  26354\u001b[0m \u001b[39mdef\u001b[39;00m \u001b[39mplane\u001b[39m(\u001b[39mself\u001b[39m, \u001b[39m*\u001b[39margs, \u001b[39m*\u001b[39m\u001b[39m*\u001b[39mkwargs):\n\u001b[0;32m  26355\u001b[0m \u001b[39m    \u001b[39m\u001b[39m\"\"\"\u001b[39;00m\n\u001b[0;32m  26356\u001b[0m \u001b[39m    Create a plane given 3 points bounded by the domain.\u001b[39;00m\n\u001b[0;32m  26357\u001b[0m \u001b[39m    \"\"\"\u001b[39;00m\n\u001b[1;32m> 26358\u001b[0m     \u001b[39mreturn\u001b[39;00m PyMenu(\u001b[39mself\u001b[39m\u001b[39m.\u001b[39mservice, \u001b[39m\"\u001b[39m\u001b[39m/surface/plane\u001b[39m\u001b[39m\"\u001b[39m)\u001b[39m.\u001b[39mexecute(\u001b[39m*\u001b[39margs, \u001b[39m*\u001b[39m\u001b[39m*\u001b[39mkwargs)\n",
      "File \u001b[1;32me:\\anaconda3\\envs\\snowstorm\\lib\\site-packages\\ansys\\fluent\\core\\services\\datamodel_tui.py:196\u001b[0m, in \u001b[0;36mPyMenu.execute\u001b[1;34m(self, *args, **kwargs)\u001b[0m\n\u001b[0;32m    194\u001b[0m \u001b[39melse\u001b[39;00m:\n\u001b[0;32m    195\u001b[0m     logger\u001b[39m.\u001b[39mdebug(\u001b[39mf\u001b[39m\u001b[39m\"\u001b[39m\u001b[39mTUI Command: \u001b[39m\u001b[39m{\u001b[39;00mrequest\u001b[39m}\u001b[39;00m\u001b[39m\"\u001b[39m)\n\u001b[1;32m--> 196\u001b[0m     \u001b[39mreturn\u001b[39;00m \u001b[39mself\u001b[39;49m\u001b[39m.\u001b[39;49m_execute_command(request)\n",
      "File \u001b[1;32me:\\anaconda3\\envs\\snowstorm\\lib\\site-packages\\ansys\\fluent\\core\\services\\datamodel_tui.py:163\u001b[0m, in \u001b[0;36mPyMenu._execute_command\u001b[1;34m(self, request)\u001b[0m\n\u001b[0;32m    160\u001b[0m \u001b[39mdef\u001b[39;00m \u001b[39m_execute_command\u001b[39m(\n\u001b[0;32m    161\u001b[0m     \u001b[39mself\u001b[39m, request: DataModelProtoModule\u001b[39m.\u001b[39mExecuteCommandRequest\n\u001b[0;32m    162\u001b[0m ) \u001b[39m-\u001b[39m\u001b[39m>\u001b[39m Any:\n\u001b[1;32m--> 163\u001b[0m     ret \u001b[39m=\u001b[39m \u001b[39mself\u001b[39;49m\u001b[39m.\u001b[39;49m_service\u001b[39m.\u001b[39;49mexecute_command(request)\n\u001b[0;32m    164\u001b[0m     \u001b[39mreturn\u001b[39;00m _convert_gvalue_to_value(ret\u001b[39m.\u001b[39mresult)\n",
      "File \u001b[1;32me:\\anaconda3\\envs\\snowstorm\\lib\\site-packages\\ansys\\fluent\\core\\services\\error_handler.py:15\u001b[0m, in \u001b[0;36mcatch_grpc_error.<locals>.func\u001b[1;34m(*args, **kwargs)\u001b[0m\n\u001b[0;32m     13\u001b[0m     \u001b[39mreturn\u001b[39;00m f(\u001b[39m*\u001b[39margs, \u001b[39m*\u001b[39m\u001b[39m*\u001b[39mkwargs)\n\u001b[0;32m     14\u001b[0m \u001b[39mexcept\u001b[39;00m grpc\u001b[39m.\u001b[39mRpcError \u001b[39mas\u001b[39;00m ex:\n\u001b[1;32m---> 15\u001b[0m     \u001b[39mraise\u001b[39;00m \u001b[39mRuntimeError\u001b[39;00m(ex\u001b[39m.\u001b[39mdetails()) \u001b[39mfrom\u001b[39;00m \u001b[39mNone\u001b[39;00m\n",
      "\u001b[1;31mRuntimeError\u001b[0m: wta(1st) to string->symbol\nError Object: #f"
     ]
    }
   ],
   "source": [
    "solver.tui.surface.plane(\n",
    "    \"yz-contour-plane\",\n",
    "    \"yz-plane\",\n",
    "    \"0\"\n",
    ")"
   ]
  },
  {
   "cell_type": "code",
   "execution_count": null,
   "id": "142c3a48",
   "metadata": {},
   "outputs": [],
   "source": [
    "solver.tui.surface.rake_surface(\n",
    "    \"probe_rake\",\n",
    "    \"0\",        # x0\n",
    "    \"0\",        # y0\n",
    "    \"0.0119\",   # z0\n",
    "    \"0\",        # x1\n",
    "    \"0.0015\",   # y1\n",
    "    \"0.0119\",   # z1\n",
    "    \"200\",      # number of points\n",
    ")"
   ]
  },
  {
   "cell_type": "code",
   "execution_count": 82,
   "id": "f55c14d7",
   "metadata": {},
   "outputs": [],
   "source": [
    "solver.tui.file.export.ascii(\n",
    "    \"TUI_test2.csv\",        # file name\n",
    "    \"probe-rake\",           # surface name (can be multiple)\n",
    "    \"()\",                   # leave surface zone menu\n",
    "    \"yes\",                    # delimiter\n",
    "    \"velocity-magnitude\",   # ASCII scalar (can be multiple)\n",
    "    \"()\",                   # leave scalar menu\n",
    "    \"no\",                   # node values (no), cell center values (yes)\n",
    ")"
   ]
  },
  {
   "cell_type": "markdown",
   "id": "45a84d9c",
   "metadata": {},
   "source": [
    "## Create velocity vectors\n",
    "Create and display velocity vectors on the symmetry-xyplane plane.\n",
    "\n",
    "- Set ``\"vector\"`` to ``\"vector-vel\"``.\n",
    "- Set ``\"style\"`` to ``\"arrow\"``.\n",
    "- Set ``\"surface-list\"`` to ``\"symmetry-xyplane\"``.\n",
    "- Set ``\"scale\"`` to ``\"4\"``.\n",
    "- Set ``\"skip\"`` to ``\"2\"``.\n",
    "\n"
   ]
  },
  {
   "cell_type": "code",
   "execution_count": null,
   "id": "d0efb87f",
   "metadata": {},
   "outputs": [],
   "source": [
    "solver.tui.display.objects.create(\n",
    "    \"vector\",\n",
    "    \"vector-vel\",\n",
    "    \"style\",\n",
    "    \"arrow\",\n",
    "    \"surface-list\",\n",
    "    \"yz-contour-plane\",\n",
    "    \"()\",\n",
    "    \"scale\",\n",
    "    \"scale-f\",\n",
    "    \"4\",\n",
    "    \"quit\",\n",
    "    \"skip\",\n",
    "    \"2\",\n",
    "    \"quit\",\n",
    ")"
   ]
  },
  {
   "cell_type": "markdown",
   "id": "6bb9f871",
   "metadata": {},
   "source": [
    "## Display and save XY plot\n",
    "Display and save an XY plot of the temperature profile across the centerline\n",
    "of the outlet for the initial solution.\n",
    "\n"
   ]
  },
  {
   "cell_type": "code",
   "execution_count": null,
   "id": "cbece935",
   "metadata": {},
   "outputs": [],
   "source": [
    "solver.tui.display.objects.create(\n",
    "    \"xy\",\n",
    "    \"xy-outlet-temp\",\n",
    "    \"y-axis-function\",\n",
    "    \"temperature\",\n",
    "    \"surfaces-list\",\n",
    "    \"z=0_outlet\",\n",
    "    \"()\",\n",
    "    \"quit\",\n",
    ")"
   ]
  },
  {
   "cell_type": "markdown",
   "id": "b8256bbf",
   "metadata": {},
   "source": [
    "### Exiting solver"
   ]
  },
  {
   "cell_type": "code",
   "execution_count": 105,
   "id": "81e62170",
   "metadata": {},
   "outputs": [],
   "source": [
    "solver.exit()"
   ]
  }
 ],
 "metadata": {
  "kernelspec": {
   "display_name": "Python 3 (ipykernel)",
   "language": "python",
   "name": "python3"
  },
  "language_info": {
   "codemirror_mode": {
    "name": "ipython",
    "version": 3
   },
   "file_extension": ".py",
   "mimetype": "text/x-python",
   "name": "python",
   "nbconvert_exporter": "python",
   "pygments_lexer": "ipython3",
   "version": "3.10.12"
  }
 },
 "nbformat": 4,
 "nbformat_minor": 5
}
