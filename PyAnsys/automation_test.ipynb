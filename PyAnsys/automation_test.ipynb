{
 "cells": [
  {
   "cell_type": "markdown",
   "id": "947cf180",
   "metadata": {},
   "source": [
    "### Importing packages"
   ]
  },
  {
   "cell_type": "code",
   "execution_count": 37,
   "id": "703ff879",
   "metadata": {},
   "outputs": [],
   "source": [
    "import ansys.fluent.core as pyfluent\n",
    "meshing_session = pyfluent.launch_fluent(precision=\"double\", processor_count=4, mode=\"meshing\", show_gui=True)\n",
    "workflow = meshing_session.workflow\n",
    "meshing = meshing_session.meshing"
   ]
  },
  {
   "cell_type": "markdown",
   "id": "15b21820",
   "metadata": {},
   "source": [
    "### Initializing workflow for meshing"
   ]
  },
  {
   "cell_type": "code",
   "execution_count": 38,
   "id": "8f50bd5f",
   "metadata": {},
   "outputs": [],
   "source": [
    "workflow.InitializeWorkflow(WorkflowType=r'Watertight Geometry')\n",
    "meshing.GlobalSettings.LengthUnit.set_state(r'um')\n",
    "meshing.GlobalSettings.AreaUnit.set_state(r'um^2')\n",
    "meshing.GlobalSettings.VolumeUnit.set_state(r'um^3')"
   ]
  },
  {
   "cell_type": "markdown",
   "id": "08f3dd8a",
   "metadata": {},
   "source": [
    "### Import geometry\n",
    "\n",
    "Replace file_location with the actual address of the Static Mixer geometry file.\n",
    "###### Eg: workflow.TaskObject['Import Geometry'].Arguments.set_state({r'FileName': r'D:/PyFluent/Static Mixer geometry.dsco',})\n"
   ]
  },
  {
   "cell_type": "code",
   "execution_count": 39,
   "id": "77d6ce2a",
   "metadata": {},
   "outputs": [
    {
     "data": {
      "text/plain": [
       "True"
      ]
     },
     "execution_count": 39,
     "metadata": {},
     "output_type": "execute_result"
    }
   ],
   "source": [
    "workflow.TaskObject['Import Geometry'].Arguments.set_state({r'FileName': r'D:\\Work\\Summer Placement Testbed\\automationtest.scdoc',\n",
    "                                                             \"LengthUnit\": \"um\",})\n",
    "workflow.TaskObject['Import Geometry'].Execute() "
   ]
  },
  {
   "cell_type": "markdown",
   "id": "a90267fd",
   "metadata": {},
   "source": [
    "### Add local sizing"
   ]
  },
  {
   "cell_type": "code",
   "execution_count": 40,
   "id": "a5253943",
   "metadata": {},
   "outputs": [
    {
     "data": {
      "text/plain": [
       "False"
      ]
     },
     "execution_count": 40,
     "metadata": {},
     "output_type": "execute_result"
    }
   ],
   "source": [
    "workflow.TaskObject['Add Local Sizing'].AddChildAndUpdate()"
   ]
  },
  {
   "cell_type": "markdown",
   "id": "a0618183",
   "metadata": {},
   "source": [
    "### Generate the Surface Mesh"
   ]
  },
  {
   "cell_type": "code",
   "execution_count": 41,
   "id": "2775042d",
   "metadata": {},
   "outputs": [
    {
     "data": {
      "text/plain": [
       "True"
      ]
     },
     "execution_count": 41,
     "metadata": {},
     "output_type": "execute_result"
    }
   ],
   "source": [
    "workflow.TaskObject['Generate the Surface Mesh'].Execute()"
   ]
  },
  {
   "cell_type": "markdown",
   "id": "4a0c53ec",
   "metadata": {},
   "source": [
    "### Describe geometry"
   ]
  },
  {
   "cell_type": "code",
   "execution_count": 42,
   "id": "ac0f40cf",
   "metadata": {},
   "outputs": [
    {
     "data": {
      "text/plain": [
       "True"
      ]
     },
     "execution_count": 42,
     "metadata": {},
     "output_type": "execute_result"
    }
   ],
   "source": [
    "workflow.TaskObject['Describe Geometry'].UpdateChildTasks(SetupTypeChanged=False)\n",
    "workflow.TaskObject['Describe Geometry'].Arguments.set_state({r'SetupType': r'The geometry consists of only fluid regions with no voids',})\n",
    "workflow.TaskObject['Describe Geometry'].UpdateChildTasks(SetupTypeChanged=True)\n",
    "workflow.TaskObject['Describe Geometry'].Execute()"
   ]
  },
  {
   "cell_type": "markdown",
   "id": "93ec33fc",
   "metadata": {},
   "source": [
    "### Updating boundaries"
   ]
  },
  {
   "cell_type": "code",
   "execution_count": 43,
   "id": "ad6d7275",
   "metadata": {},
   "outputs": [
    {
     "data": {
      "text/plain": [
       "True"
      ]
     },
     "execution_count": 43,
     "metadata": {},
     "output_type": "execute_result"
    }
   ],
   "source": [
    "workflow.TaskObject['Update Boundaries'].Execute()"
   ]
  },
  {
   "cell_type": "markdown",
   "id": "b03d6c23",
   "metadata": {},
   "source": [
    "### Updating regions"
   ]
  },
  {
   "cell_type": "code",
   "execution_count": 44,
   "id": "02b9b0c1",
   "metadata": {},
   "outputs": [
    {
     "data": {
      "text/plain": [
       "True"
      ]
     },
     "execution_count": 44,
     "metadata": {},
     "output_type": "execute_result"
    }
   ],
   "source": [
    "workflow.TaskObject['Update Regions'].Execute()"
   ]
  },
  {
   "cell_type": "markdown",
   "id": "efc5fa6d",
   "metadata": {},
   "source": [
    "### Add boundary layers"
   ]
  },
  {
   "cell_type": "code",
   "execution_count": 45,
   "id": "9e5ace1f",
   "metadata": {},
   "outputs": [
    {
     "data": {
      "text/plain": [
       "True"
      ]
     },
     "execution_count": 45,
     "metadata": {},
     "output_type": "execute_result"
    }
   ],
   "source": [
    "workflow.TaskObject['Add Boundary Layers'].Arguments.set_state({r'LocalPrismPreferences': {r'Continuous': r'Stair Step',},})\n",
    "workflow.TaskObject['Add Boundary Layers'].AddChildAndUpdate()"
   ]
  },
  {
   "cell_type": "markdown",
   "id": "9af01942",
   "metadata": {},
   "source": [
    "### Generate the volume Mesh"
   ]
  },
  {
   "cell_type": "code",
   "execution_count": 46,
   "id": "33041579",
   "metadata": {},
   "outputs": [
    {
     "data": {
      "text/plain": [
       "True"
      ]
     },
     "execution_count": 46,
     "metadata": {},
     "output_type": "execute_result"
    }
   ],
   "source": [
    "workflow.TaskObject[\"Generate the Volume Mesh\"].Arguments = {\"VolumeFill\": \"poly-hexcore\",}\n",
    "\n",
    "workflow.TaskObject['Generate the Volume Mesh'].Execute()"
   ]
  },
  {
   "cell_type": "markdown",
   "id": "3e968ebf",
   "metadata": {},
   "source": [
    "### Switch to solution"
   ]
  },
  {
   "cell_type": "code",
   "execution_count": 47,
   "id": "07ae87fe",
   "metadata": {},
   "outputs": [],
   "source": [
    "solver = meshing_session.switch_to_solver()"
   ]
  },
  {
   "attachments": {},
   "cell_type": "markdown",
   "id": "ae387ffb",
   "metadata": {},
   "source": [
    "### Enabling energy"
   ]
  },
  {
   "cell_type": "code",
   "execution_count": 48,
   "id": "75baf02a",
   "metadata": {},
   "outputs": [],
   "source": [
    "#solver.setup.models.energy = {\"enabled\" : False}"
   ]
  },
  {
   "cell_type": "markdown",
   "id": "e7b2353e",
   "metadata": {},
   "source": [
    "### Copying Water_liquid to materials panel"
   ]
  },
  {
   "cell_type": "code",
   "execution_count": 49,
   "id": "a167e5e0",
   "metadata": {},
   "outputs": [],
   "source": [
    "#solver.execute_tui(r'''/define/materials/copy fluid water-liquid ''')"
   ]
  },
  {
   "cell_type": "markdown",
   "id": "c64b4ef3",
   "metadata": {},
   "source": [
    "### Assigning water_liquid to fluid domain"
   ]
  },
  {
   "cell_type": "code",
   "execution_count": 50,
   "id": "7b11c3ee",
   "metadata": {},
   "outputs": [],
   "source": [
    "#solver.setup.cell_zone_conditions.fluid['fluid'] = {\"material\" : \"water-liquid\"}"
   ]
  },
  {
   "cell_type": "markdown",
   "id": "9f893c08",
   "metadata": {},
   "source": [
    "### Assigning boudary conditons"
   ]
  },
  {
   "cell_type": "code",
   "execution_count": 51,
   "id": "c77950d0",
   "metadata": {},
   "outputs": [],
   "source": [
    "solver.setup.boundary_conditions.velocity_inlet['inlet'].vmag = 3.78"
   ]
  },
  {
   "cell_type": "markdown",
   "id": "62812790",
   "metadata": {},
   "source": [
    "### Residuals"
   ]
  },
  {
   "cell_type": "code",
   "execution_count": 52,
   "id": "53c7d8f6",
   "metadata": {},
   "outputs": [],
   "source": [
    "solver.tui.solve.monitors.residual.plot(\"yes\")"
   ]
  },
  {
   "attachments": {},
   "cell_type": "markdown",
   "id": "c2612367",
   "metadata": {},
   "source": [
    "### Create surface report definition"
   ]
  },
  {
   "cell_type": "code",
   "execution_count": 53,
   "id": "39781bcb",
   "metadata": {},
   "outputs": [],
   "source": [
    "solver.tui.solve.report_definitions.add(\n",
    "    \"outlet\",\n",
    "    \"surface-massavg\",\n",
    "    \"field\",\n",
    "    \"velocity-magnitude\",\n",
    "    \"surface-names\",\n",
    "    \"outlet\",\n",
    "    \"()\",\n",
    "    \"quit\",\n",
    ")"
   ]
  },
  {
   "cell_type": "markdown",
   "id": "a2d319e7",
   "metadata": {},
   "source": [
    "### Hybrid Initialization"
   ]
  },
  {
   "cell_type": "code",
   "execution_count": 54,
   "id": "fcd27b09",
   "metadata": {},
   "outputs": [],
   "source": [
    "solver.solution.initialization.hybrid_initialize()"
   ]
  },
  {
   "cell_type": "markdown",
   "id": "06244637",
   "metadata": {},
   "source": [
    "### Setting 20 iterations"
   ]
  },
  {
   "cell_type": "code",
   "execution_count": 55,
   "id": "61157309",
   "metadata": {},
   "outputs": [],
   "source": [
    "solver.solution.run_calculation.iterate(iter_count = 5)"
   ]
  },
  {
   "cell_type": "markdown",
   "id": "5f90ee5a",
   "metadata": {},
   "source": [
    "### Create definition for velocity magnitude contours\n",
    "Create and display a definition for the velocity magnitude contours on the\n",
    "symmetry plane.\n",
    "\n",
    "- Set ``\"contour\"`` to ``\"contour-vel\"``.\n",
    "- Set ``\"field\"`` to ``\"velocity-magnitude\"``.\n",
    "- Set ``\"surfaces-list\"`` to ``\"symmetry-xyplane\"``.\n",
    "- Set ``\"display\"`` to ``\"contour-vel contour\"``.\n",
    "\n"
   ]
  },
  {
   "cell_type": "code",
   "execution_count": 58,
   "id": "ff63aba8",
   "metadata": {},
   "outputs": [],
   "source": [
    "solver.tui.display.objects.create(\n",
    "    \"contour\",\n",
    "    \"contour-vel\",\n",
    "    \"filled?\",\n",
    "    \"yes\",\n",
    "    \"node-values?\",\n",
    "    \"yes\",\n",
    "    \"field\",\n",
    "    \"velocity-magnitude\",\n",
    "    \"surfaces-list\",\n",
    "    \"symmetry-xyplane\",\n",
    "    \"()\",\n",
    "    \"coloring\",\n",
    "    \"banded\",\n",
    "    \"quit\",\n",
    ")"
   ]
  },
  {
   "cell_type": "code",
   "execution_count": 70,
   "id": "b19419bc",
   "metadata": {},
   "outputs": [],
   "source": [
    "solver.tui.surface.plane(\n",
    "    \"yz-contour-plane\",\n",
    "    \"yz-plane\",\n",
    "    \"0\"\n",
    ")"
   ]
  },
  {
   "cell_type": "markdown",
   "id": "45a84d9c",
   "metadata": {},
   "source": [
    "## Create velocity vectors\n",
    "Create and display velocity vectors on the symmetry-xyplane plane.\n",
    "\n",
    "- Set ``\"vector\"`` to ``\"vector-vel\"``.\n",
    "- Set ``\"style\"`` to ``\"arrow\"``.\n",
    "- Set ``\"surface-list\"`` to ``\"symmetry-xyplane\"``.\n",
    "- Set ``\"scale\"`` to ``\"4\"``.\n",
    "- Set ``\"skip\"`` to ``\"2\"``.\n",
    "\n"
   ]
  },
  {
   "cell_type": "code",
   "execution_count": 59,
   "id": "d0efb87f",
   "metadata": {},
   "outputs": [],
   "source": [
    "solver.tui.display.objects.create(\n",
    "    \"vector\",\n",
    "    \"vector-vel\",\n",
    "    \"style\",\n",
    "    \"arrow\",\n",
    "    \"surface-list\",\n",
    "    \"yz-contour-plane\",\n",
    "    \"()\",\n",
    "    \"scale\",\n",
    "    \"scale-f\",\n",
    "    \"4\",\n",
    "    \"quit\",\n",
    "    \"skip\",\n",
    "    \"2\",\n",
    "    \"quit\",\n",
    ")"
   ]
  },
  {
   "cell_type": "markdown",
   "id": "6bb9f871",
   "metadata": {},
   "source": [
    "## Display and save XY plot\n",
    "Display and save an XY plot of the temperature profile across the centerline\n",
    "of the outlet for the initial solution.\n",
    "\n"
   ]
  },
  {
   "cell_type": "code",
   "execution_count": null,
   "id": "cbece935",
   "metadata": {},
   "outputs": [],
   "source": [
    "solver.tui.display.objects.create(\n",
    "    \"xy\",\n",
    "    \"xy-outlet-temp\",\n",
    "    \"y-axis-function\",\n",
    "    \"temperature\",\n",
    "    \"surfaces-list\",\n",
    "    \"z=0_outlet\",\n",
    "    \"()\",\n",
    "    \"quit\",\n",
    ")"
   ]
  },
  {
   "cell_type": "markdown",
   "id": "b8256bbf",
   "metadata": {},
   "source": [
    "### Exiting solver"
   ]
  },
  {
   "cell_type": "code",
   "execution_count": null,
   "id": "81e62170",
   "metadata": {},
   "outputs": [],
   "source": [
    "#solver.exit()"
   ]
  }
 ],
 "metadata": {
  "kernelspec": {
   "display_name": "Python 3 (ipykernel)",
   "language": "python",
   "name": "python3"
  },
  "language_info": {
   "codemirror_mode": {
    "name": "ipython",
    "version": 3
   },
   "file_extension": ".py",
   "mimetype": "text/x-python",
   "name": "python",
   "nbconvert_exporter": "python",
   "pygments_lexer": "ipython3",
   "version": "3.10.10"
  }
 },
 "nbformat": 4,
 "nbformat_minor": 5
}
